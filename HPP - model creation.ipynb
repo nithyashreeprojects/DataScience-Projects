{
 "cells": [
  {
   "cell_type": "code",
   "execution_count": 2,
   "id": "73262c05",
   "metadata": {},
   "outputs": [],
   "source": [
    "import pandas as pd\n",
    "import matplotlib.pyplot as plt\n",
    "import seaborn as sns\n",
    "import numpy as np\n",
    "import chardet\n",
    "import warnings\n",
    "warnings.filterwarnings('ignore')"
   ]
  },
  {
   "cell_type": "code",
   "execution_count": 3,
   "id": "d0961d2b",
   "metadata": {},
   "outputs": [],
   "source": [
    "df1=pd.read_csv('NewData.csv',index_col=0)"
   ]
  },
  {
   "cell_type": "code",
   "execution_count": 4,
   "id": "4eb5d9c3",
   "metadata": {},
   "outputs": [
    {
     "data": {
      "text/html": [
       "<div>\n",
       "<style scoped>\n",
       "    .dataframe tbody tr th:only-of-type {\n",
       "        vertical-align: middle;\n",
       "    }\n",
       "\n",
       "    .dataframe tbody tr th {\n",
       "        vertical-align: top;\n",
       "    }\n",
       "\n",
       "    .dataframe thead th {\n",
       "        text-align: right;\n",
       "    }\n",
       "</style>\n",
       "<table border=\"1\" class=\"dataframe\">\n",
       "  <thead>\n",
       "    <tr style=\"text-align: right;\">\n",
       "      <th></th>\n",
       "      <th>Lng</th>\n",
       "      <th>Lat</th>\n",
       "      <th>tradeTime</th>\n",
       "      <th>followers</th>\n",
       "      <th>totalPrice</th>\n",
       "      <th>price</th>\n",
       "      <th>square</th>\n",
       "      <th>livingRoom</th>\n",
       "      <th>drawingRoom</th>\n",
       "      <th>kitchen</th>\n",
       "      <th>...</th>\n",
       "      <th>district_5</th>\n",
       "      <th>district_6</th>\n",
       "      <th>district_7</th>\n",
       "      <th>district_8</th>\n",
       "      <th>district_9</th>\n",
       "      <th>district_10</th>\n",
       "      <th>district_11</th>\n",
       "      <th>district_12</th>\n",
       "      <th>district_13</th>\n",
       "      <th>elevator_1.0</th>\n",
       "    </tr>\n",
       "  </thead>\n",
       "  <tbody>\n",
       "    <tr>\n",
       "      <th>0</th>\n",
       "      <td>0.630809</td>\n",
       "      <td>0.627253</td>\n",
       "      <td>2016</td>\n",
       "      <td>0.092738</td>\n",
       "      <td>415.0</td>\n",
       "      <td>31680</td>\n",
       "      <td>0.135066</td>\n",
       "      <td>0.222222</td>\n",
       "      <td>0.2</td>\n",
       "      <td>0.333333</td>\n",
       "      <td>...</td>\n",
       "      <td>0</td>\n",
       "      <td>0</td>\n",
       "      <td>1</td>\n",
       "      <td>0</td>\n",
       "      <td>0</td>\n",
       "      <td>0</td>\n",
       "      <td>0</td>\n",
       "      <td>0</td>\n",
       "      <td>0</td>\n",
       "      <td>1</td>\n",
       "    </tr>\n",
       "    <tr>\n",
       "      <th>1</th>\n",
       "      <td>0.597040</td>\n",
       "      <td>0.406733</td>\n",
       "      <td>2016</td>\n",
       "      <td>0.110236</td>\n",
       "      <td>575.0</td>\n",
       "      <td>43436</td>\n",
       "      <td>0.136574</td>\n",
       "      <td>0.222222</td>\n",
       "      <td>0.4</td>\n",
       "      <td>0.333333</td>\n",
       "      <td>...</td>\n",
       "      <td>0</td>\n",
       "      <td>0</td>\n",
       "      <td>1</td>\n",
       "      <td>0</td>\n",
       "      <td>0</td>\n",
       "      <td>0</td>\n",
       "      <td>0</td>\n",
       "      <td>0</td>\n",
       "      <td>0</td>\n",
       "      <td>1</td>\n",
       "    </tr>\n",
       "    <tr>\n",
       "      <th>2</th>\n",
       "      <td>0.766197</td>\n",
       "      <td>0.399718</td>\n",
       "      <td>2016</td>\n",
       "      <td>0.041995</td>\n",
       "      <td>1030.0</td>\n",
       "      <td>52021</td>\n",
       "      <td>0.208264</td>\n",
       "      <td>0.333333</td>\n",
       "      <td>0.4</td>\n",
       "      <td>0.333333</td>\n",
       "      <td>...</td>\n",
       "      <td>0</td>\n",
       "      <td>0</td>\n",
       "      <td>1</td>\n",
       "      <td>0</td>\n",
       "      <td>0</td>\n",
       "      <td>0</td>\n",
       "      <td>0</td>\n",
       "      <td>0</td>\n",
       "      <td>0</td>\n",
       "      <td>1</td>\n",
       "    </tr>\n",
       "    <tr>\n",
       "      <th>3</th>\n",
       "      <td>0.572140</td>\n",
       "      <td>0.717698</td>\n",
       "      <td>2016</td>\n",
       "      <td>0.120735</td>\n",
       "      <td>297.5</td>\n",
       "      <td>22202</td>\n",
       "      <td>0.138344</td>\n",
       "      <td>0.333333</td>\n",
       "      <td>0.2</td>\n",
       "      <td>0.333333</td>\n",
       "      <td>...</td>\n",
       "      <td>0</td>\n",
       "      <td>1</td>\n",
       "      <td>0</td>\n",
       "      <td>0</td>\n",
       "      <td>0</td>\n",
       "      <td>0</td>\n",
       "      <td>0</td>\n",
       "      <td>0</td>\n",
       "      <td>0</td>\n",
       "      <td>1</td>\n",
       "    </tr>\n",
       "    <tr>\n",
       "      <th>4</th>\n",
       "      <td>0.557084</td>\n",
       "      <td>0.414236</td>\n",
       "      <td>2016</td>\n",
       "      <td>0.250219</td>\n",
       "      <td>392.0</td>\n",
       "      <td>48396</td>\n",
       "      <td>0.080441</td>\n",
       "      <td>0.222222</td>\n",
       "      <td>0.2</td>\n",
       "      <td>0.333333</td>\n",
       "      <td>...</td>\n",
       "      <td>0</td>\n",
       "      <td>0</td>\n",
       "      <td>0</td>\n",
       "      <td>0</td>\n",
       "      <td>0</td>\n",
       "      <td>0</td>\n",
       "      <td>0</td>\n",
       "      <td>0</td>\n",
       "      <td>0</td>\n",
       "      <td>0</td>\n",
       "    </tr>\n",
       "  </tbody>\n",
       "</table>\n",
       "<p>5 rows × 44 columns</p>\n",
       "</div>"
      ],
      "text/plain": [
       "        Lng       Lat  tradeTime  followers  totalPrice  price    square  \\\n",
       "0  0.630809  0.627253       2016   0.092738       415.0  31680  0.135066   \n",
       "1  0.597040  0.406733       2016   0.110236       575.0  43436  0.136574   \n",
       "2  0.766197  0.399718       2016   0.041995      1030.0  52021  0.208264   \n",
       "3  0.572140  0.717698       2016   0.120735       297.5  22202  0.138344   \n",
       "4  0.557084  0.414236       2016   0.250219       392.0  48396  0.080441   \n",
       "\n",
       "   livingRoom  drawingRoom   kitchen  ...  district_5  district_6  district_7  \\\n",
       "0    0.222222          0.2  0.333333  ...           0           0           1   \n",
       "1    0.222222          0.4  0.333333  ...           0           0           1   \n",
       "2    0.333333          0.4  0.333333  ...           0           0           1   \n",
       "3    0.333333          0.2  0.333333  ...           0           1           0   \n",
       "4    0.222222          0.2  0.333333  ...           0           0           0   \n",
       "\n",
       "   district_8  district_9  district_10  district_11  district_12  district_13  \\\n",
       "0           0           0            0            0            0            0   \n",
       "1           0           0            0            0            0            0   \n",
       "2           0           0            0            0            0            0   \n",
       "3           0           0            0            0            0            0   \n",
       "4           0           0            0            0            0            0   \n",
       "\n",
       "   elevator_1.0  \n",
       "0             1  \n",
       "1             1  \n",
       "2             1  \n",
       "3             1  \n",
       "4             0  \n",
       "\n",
       "[5 rows x 44 columns]"
      ]
     },
     "execution_count": 4,
     "metadata": {},
     "output_type": "execute_result"
    }
   ],
   "source": [
    "df1.head()"
   ]
  },
  {
   "cell_type": "code",
   "execution_count": 5,
   "id": "69b5332f",
   "metadata": {},
   "outputs": [
    {
     "data": {
      "text/plain": [
       "Index(['Lng', 'Lat', 'tradeTime', 'followers', 'totalPrice', 'price', 'square',\n",
       "       'livingRoom', 'drawingRoom', 'kitchen', 'bathRoom', 'floor',\n",
       "       'constructionTime', 'ladderRatio', 'fiveYearsProperty', 'subway',\n",
       "       'communityAverage', 'renovationCondition_2', 'renovationCondition_3',\n",
       "       'renovationCondition_4', 'buildingStructure_2', 'buildingStructure_3',\n",
       "       'buildingStructure_4', 'buildingStructure_5', 'buildingStructure_6',\n",
       "       'buildingType_2.0', 'buildingType_3.0', 'buildingType_4.0',\n",
       "       'buildingType_2.0.1', 'buildingType_3.0.1', 'buildingType_4.0.1',\n",
       "       'district_2', 'district_3', 'district_4', 'district_5', 'district_6',\n",
       "       'district_7', 'district_8', 'district_9', 'district_10', 'district_11',\n",
       "       'district_12', 'district_13', 'elevator_1.0'],\n",
       "      dtype='object')"
      ]
     },
     "execution_count": 5,
     "metadata": {},
     "output_type": "execute_result"
    }
   ],
   "source": [
    "df1.columns"
   ]
  },
  {
   "cell_type": "markdown",
   "id": "dcc054b6",
   "metadata": {},
   "source": [
    "### DROP THE UNNECESSARY COLUMNS "
   ]
  },
  {
   "cell_type": "code",
   "execution_count": 6,
   "id": "e2422b4a",
   "metadata": {},
   "outputs": [],
   "source": [
    "drop_columns=['Lng', 'Lat','district_2', 'district_3', 'district_4', 'district_5', 'district_6',\n",
    "              'district_7', 'district_8', 'district_9', 'district_10', 'district_11',\n",
    "              'district_12', 'district_13','ladderRatio', 'fiveYearsProperty', 'subway','floor',\n",
    "              'buildingType_2.0', 'buildingType_3.0', 'buildingType_4.0',\n",
    "              'buildingType_2.0.1', 'buildingType_3.0.1', 'buildingType_4.0.1','price']"
   ]
  },
  {
   "cell_type": "code",
   "execution_count": 7,
   "id": "d4309d4b",
   "metadata": {},
   "outputs": [],
   "source": [
    "df1=df1.drop(columns=drop_columns)"
   ]
  },
  {
   "cell_type": "code",
   "execution_count": 8,
   "id": "7c508dbc",
   "metadata": {},
   "outputs": [
    {
     "data": {
      "text/plain": [
       "(316798, 19)"
      ]
     },
     "execution_count": 8,
     "metadata": {},
     "output_type": "execute_result"
    }
   ],
   "source": [
    "df1.shape"
   ]
  },
  {
   "cell_type": "code",
   "execution_count": 9,
   "id": "f1a90872",
   "metadata": {},
   "outputs": [
    {
     "data": {
      "text/plain": [
       "Index(['tradeTime', 'followers', 'totalPrice', 'square', 'livingRoom',\n",
       "       'drawingRoom', 'kitchen', 'bathRoom', 'constructionTime',\n",
       "       'communityAverage', 'renovationCondition_2', 'renovationCondition_3',\n",
       "       'renovationCondition_4', 'buildingStructure_2', 'buildingStructure_3',\n",
       "       'buildingStructure_4', 'buildingStructure_5', 'buildingStructure_6',\n",
       "       'elevator_1.0'],\n",
       "      dtype='object')"
      ]
     },
     "execution_count": 9,
     "metadata": {},
     "output_type": "execute_result"
    }
   ],
   "source": [
    "df1.columns"
   ]
  },
  {
   "cell_type": "markdown",
   "id": "9818cb6d",
   "metadata": {},
   "source": [
    "MODELS USED :\n",
    "1. KNN model\n",
    "2. Decision Trees\n",
    "3. CNN"
   ]
  },
  {
   "cell_type": "markdown",
   "id": "65e21fda",
   "metadata": {},
   "source": [
    "FEATURES AND LABELS"
   ]
  },
  {
   "cell_type": "code",
   "execution_count": 10,
   "id": "2d93ca08",
   "metadata": {},
   "outputs": [],
   "source": [
    "X=df1.drop(['totalPrice'],axis=1)\n",
    "y=df1['totalPrice']"
   ]
  },
  {
   "cell_type": "code",
   "execution_count": 11,
   "id": "20aa67a2",
   "metadata": {},
   "outputs": [],
   "source": [
    "from sklearn.model_selection import train_test_split\n",
    "X_train,X_test,y_train,y_test=train_test_split(X,y,test_size=0.30,random_state=2)"
   ]
  },
  {
   "cell_type": "markdown",
   "id": "a43ff41b",
   "metadata": {},
   "source": [
    "random_state = 2 ensures that everytime we split our data into testing and training sets, we get yhe same sets"
   ]
  },
  {
   "cell_type": "code",
   "execution_count": 12,
   "id": "9e1e2279",
   "metadata": {},
   "outputs": [
    {
     "name": "stdout",
     "output_type": "stream",
     "text": [
      "By using Linear Regression we got:\n",
      "Training data accuracy 0.7672593269308595\n",
      "Testing data accuracy 0.7660720353592916\n"
     ]
    }
   ],
   "source": [
    "from sklearn.linear_model import LinearRegression\n",
    "\n",
    "lr_model = LinearRegression()\n",
    "lr_model.fit(X_train, y_train)\n",
    "print(\"By using Linear Regression we got:\")\n",
    "print(\"Training data accuracy\",lr_model.score(X_train, y_train))\n",
    "print(\"Testing data accuracy\",lr_model.score(X_test, y_test))"
   ]
  },
  {
   "cell_type": "markdown",
   "id": "64eeac9a",
   "metadata": {},
   "source": [
    "MODEL EVALUATION"
   ]
  },
  {
   "cell_type": "markdown",
   "id": "c5975a95",
   "metadata": {},
   "source": [
    "error = actual - predicted"
   ]
  },
  {
   "cell_type": "code",
   "execution_count": 17,
   "id": "658220f6",
   "metadata": {},
   "outputs": [],
   "source": [
    "train_predictions=lr_model.predict(X_train)\n",
    "test_predictions=lr_model.predict(X_test)"
   ]
  },
  {
   "cell_type": "code",
   "execution_count": 18,
   "id": "e0881174",
   "metadata": {},
   "outputs": [],
   "source": [
    "train_MeanSquareError= mean_squared_error(y_train, train_predictions)\n",
    "test_MeanSquareErroe= mean_squared_error(y_test, test_predictions)"
   ]
  },
  {
   "cell_type": "code",
   "execution_count": 20,
   "id": "e9cfba1e",
   "metadata": {},
   "outputs": [
    {
     "name": "stdout",
     "output_type": "stream",
     "text": [
      "Training data MSE: 11649.435579766901\n",
      "Testing data MSE: 11893.916462597048\n"
     ]
    }
   ],
   "source": [
    "print(\"Training data MSE:\", train_MeanSquareError)\n",
    "print(\"Testing data MSE:\", test_MeanSquareErroe)"
   ]
  },
  {
   "cell_type": "markdown",
   "id": "438ac1d7",
   "metadata": {},
   "source": [
    "The MSE represents the average squared difference between the actual and predicted values"
   ]
  },
  {
   "cell_type": "code",
   "execution_count": 17,
   "id": "b2328bb4",
   "metadata": {},
   "outputs": [],
   "source": [
    "test_data=[[2010,120,130,3,1,2,2,2005,45000,0,0,1,0,0,0,0,0,1]]"
   ]
  },
  {
   "cell_type": "code",
   "execution_count": 18,
   "id": "0e8e0eb4",
   "metadata": {},
   "outputs": [
    {
     "name": "stdout",
     "output_type": "stream",
     "text": [
      "[44178502.50258317]\n"
     ]
    }
   ],
   "source": [
    "print(lr_model.predict(test_data))"
   ]
  },
  {
   "cell_type": "code",
   "execution_count": 16,
   "id": "7c0cf461",
   "metadata": {},
   "outputs": [],
   "source": [
    "from sklearn.metrics import mean_squared_error, mean_absolute_error\n",
    "from sklearn.linear_model import LinearRegression"
   ]
  },
  {
   "cell_type": "code",
   "execution_count": null,
   "id": "52d9c21b",
   "metadata": {},
   "outputs": [],
   "source": []
  },
  {
   "cell_type": "code",
   "execution_count": 12,
   "id": "e4b58706",
   "metadata": {},
   "outputs": [
    {
     "name": "stdout",
     "output_type": "stream",
     "text": [
      "By using Linear Regression we got:\n",
      "Training data MSE: 11649.435579766896\n",
      "Testing data MSE: 11893.916462597048\n",
      "Training data MAE: 71.56290891275167\n",
      "Testing data MAE: 71.86988016325702\n"
     ]
    }
   ],
   "source": [
    "from sklearn.linear_model import LinearRegression\n",
    "from sklearn.metrics import mean_squared_error, mean_absolute_error\n",
    "\n",
    "# Assuming you already have X_train, X_test, y_train, and y_test\n",
    "\n",
    "lr_model = LinearRegression()\n",
    "lr_model.fit(X_train, y_train)\n",
    "\n",
    "# Make predictions on the training set\n",
    "train_predictions = lr_model.predict(X_train)\n",
    "\n",
    "# Make predictions on the testing set\n",
    "test_predictions = lr_model.predict(X_test)\n",
    "\n",
    "# Evaluate the model using Mean Squared Error (MSE) and Mean Absolute Error (MAE)\n",
    "train_mse = mean_squared_error(y_train, train_predictions)\n",
    "test_mse = mean_squared_error(y_test, test_predictions)\n",
    "\n",
    "train_mae = mean_absolute_error(y_train, train_predictions)\n",
    "test_mae = mean_absolute_error(y_test, test_predictions)\n",
    "\n",
    "print(\"By using Linear Regression we got:\")\n",
    "print(\"Training data MSE:\", train_mse)\n",
    "print(\"Testing data MSE:\", test_mse)\n",
    "\n",
    "print(\"Training data MAE:\", train_mae)\n",
    "print(\"Testing data MAE:\", test_mae)\n"
   ]
  },
  {
   "cell_type": "code",
   "execution_count": 13,
   "id": "503705ca",
   "metadata": {},
   "outputs": [
    {
     "name": "stdout",
     "output_type": "stream",
     "text": [
      "Training data accuracy 0.9887541076713705\n",
      "Testing data accuracy 0.9227733967165338\n"
     ]
    }
   ],
   "source": [
    "from sklearn.ensemble import RandomForestRegressor\n",
    "rfm=RandomForestRegressor()\n",
    "rfm.fit(X_train,y_train)\n",
    "print(\"Training data accuracy\" ,rfm.score(X_train,y_train))\n",
    "print(\"Testing data accuracy\",rfm.score(X_test,y_test))"
   ]
  },
  {
   "cell_type": "code",
   "execution_count": null,
   "id": "ed8095df",
   "metadata": {},
   "outputs": [],
   "source": []
  },
  {
   "cell_type": "code",
   "execution_count": null,
   "id": "7c726a40",
   "metadata": {},
   "outputs": [],
   "source": []
  },
  {
   "cell_type": "code",
   "execution_count": null,
   "id": "ccd319c6",
   "metadata": {},
   "outputs": [],
   "source": [
    "from sklearn.tree import DecisionTreeRegressor\n",
    "from sklearn.metrics import mean_squared_error, mean_absolute_error\n",
    "\n",
    "# Assuming you already have X_train, X_test, y_train, and y_test\n",
    "\n",
    "# Initialize the Decision Tree model\n",
    "dt_model = DecisionTreeRegressor(random_state=42)  # You can adjust hyperparameters as needed\n",
    "\n",
    "# Train the model on the training set\n",
    "dt_model.fit(X_train, y_train)\n",
    "\n",
    "# Make predictions on the training set\n",
    "train_predictions_dt = dt_model.predict(X_train)\n",
    "\n",
    "# Make predictions on the testing set\n",
    "test_predictions_dt = dt_model.predict(X_test)\n",
    "\n",
    "# Evaluate the model using Mean Squared Error (MSE) and Mean Absolute Error (MAE)\n",
    "train_mse_dt = mean_squared_error(y_train, train_predictions_dt)\n",
    "test_mse_dt = mean_squared_error(y_test, test_predictions_dt)\n",
    "\n",
    "train_mae_dt = mean_absolute_error(y_train, train_predictions_dt)\n",
    "test_mae_dt = mean_absolute_error(y_test, test_predictions_dt)\n",
    "\n",
    "print(\"By using Decision Tree Regression we got:\")\n",
    "print(\"Training data MSE:\", train_mse_dt)\n",
    "print(\"Testing data MSE:\", test_mse_dt)\n",
    "\n",
    "print(\"Training data MAE:\", train_mae_dt)\n",
    "print(\"Testing data MAE:\", test_mae_dt)\n"
   ]
  },
  {
   "cell_type": "markdown",
   "id": "150b96c3",
   "metadata": {},
   "source": [
    "### DECISION TREE REGRESSOR"
   ]
  },
  {
   "cell_type": "code",
   "execution_count": null,
   "id": "041d48d1",
   "metadata": {},
   "outputs": [],
   "source": [
    "from sklearn.tree import DecisionTreeRegressor\n",
    "from sklearn.metrics import mean_squared_error, mean_absolute_error"
   ]
  },
  {
   "cell_type": "code",
   "execution_count": null,
   "id": "c9bd061f",
   "metadata": {},
   "outputs": [],
   "source": [
    "# Initialize the Decision Tree model with hyperparameter adjustments\n",
    "dt_model = DecisionTreeRegressor(max_depth=5, min_samples_split=5, random_state=42)"
   ]
  },
  {
   "cell_type": "code",
   "execution_count": null,
   "id": "8062a6bd",
   "metadata": {},
   "outputs": [],
   "source": [
    "# Train the model on the training set\n",
    "dt_model.fit(X_train, y_train)"
   ]
  },
  {
   "cell_type": "code",
   "execution_count": null,
   "id": "c1a61e95",
   "metadata": {},
   "outputs": [],
   "source": [
    "# Make predictions on the training set\n",
    "train_predictions_dt = dt_model.predict(X_train)"
   ]
  },
  {
   "cell_type": "code",
   "execution_count": null,
   "id": "abaaf5cb",
   "metadata": {},
   "outputs": [],
   "source": [
    "# Make predictions on the testing set\n",
    "test_predictions_dt = dt_model.predict(X_test)"
   ]
  },
  {
   "cell_type": "code",
   "execution_count": null,
   "id": "ce744ac1",
   "metadata": {},
   "outputs": [],
   "source": [
    "# Evaluate the model using Mean Squared Error (MSE) and Mean Absolute Error (MAE)\n",
    "train_mse_dt = mean_squared_error(y_train, train_predictions_dt)\n",
    "test_mse_dt = mean_squared_error(y_test, test_predictions_dt)\n",
    "\n",
    "train_mae_dt = mean_absolute_error(y_train, train_predictions_dt)\n",
    "test_mae_dt = mean_absolute_error(y_test, test_predictions_dt)\n",
    "\n",
    "print(\"By using Decision Tree Regression with Hyperparameter Tuning we got:\")\n",
    "print(\"Training data MSE:\", train_mse_dt)\n",
    "print(\"Testing data MSE:\", test_mse_dt)\n",
    "\n",
    "print(\"Training data MAE:\", train_mae_dt)\n",
    "print(\"Testing data MAE:\", test_mae_dt)"
   ]
  },
  {
   "cell_type": "code",
   "execution_count": null,
   "id": "c068062e",
   "metadata": {},
   "outputs": [],
   "source": []
  },
  {
   "cell_type": "code",
   "execution_count": null,
   "id": "7a33ad58",
   "metadata": {},
   "outputs": [],
   "source": []
  },
  {
   "cell_type": "markdown",
   "id": "ccb8ad0c",
   "metadata": {},
   "source": [
    "### NEURAL NETWORKS"
   ]
  },
  {
   "cell_type": "code",
   "execution_count": null,
   "id": "4ccae53e",
   "metadata": {},
   "outputs": [],
   "source": [
    "import tensorflow as tf\n",
    "from tensorflow.keras.models import Sequential\n",
    "from tensorflow.keras.layers import Dense\n",
    "from sklearn.metrics import mean_squared_error, mean_absolute_error\n",
    "from sklearn.model_selection import train_test_split\n",
    "from sklearn.preprocessing import StandardScaler"
   ]
  },
  {
   "cell_type": "code",
   "execution_count": null,
   "id": "eaeda1a8",
   "metadata": {},
   "outputs": [],
   "source": [
    "X_train, X_test, y_train, y_test = train_test_split(X, y, test_size=0.3, random_state=2)"
   ]
  },
  {
   "cell_type": "code",
   "execution_count": null,
   "id": "aa4ed83e",
   "metadata": {},
   "outputs": [],
   "source": [
    "scaler = StandardScaler()\n",
    "X_train_scaled = scaler.fit_transform(X_train)\n",
    "X_test_scaled = scaler.transform(X_test)"
   ]
  },
  {
   "cell_type": "code",
   "execution_count": null,
   "id": "0479d39e",
   "metadata": {},
   "outputs": [],
   "source": [
    "model = Sequential()\n",
    "model.add(Dense(64, activation='relu', input_shape=(X_train_scaled.shape[1],)))\n",
    "model.add(Dense(32, activation='relu'))\n",
    "model.add(Dense(1))"
   ]
  },
  {
   "cell_type": "code",
   "execution_count": null,
   "id": "0a3d6d8a",
   "metadata": {},
   "outputs": [],
   "source": [
    "# Compile the model\n",
    "model.compile(optimizer='adam', loss='mean_squared_error')"
   ]
  },
  {
   "cell_type": "code",
   "execution_count": null,
   "id": "ebd50845",
   "metadata": {},
   "outputs": [],
   "source": [
    "# Train the model\n",
    "model.fit(X_train_scaled, y_train, epochs=50, batch_size=32, validation_split=0.1, verbose=2)"
   ]
  },
  {
   "cell_type": "code",
   "execution_count": null,
   "id": "6b979dba",
   "metadata": {},
   "outputs": [],
   "source": [
    "# Make predictions on the testing set\n",
    "predictions_nn = model.predict(X_test_scaled).flatten()"
   ]
  },
  {
   "cell_type": "code",
   "execution_count": null,
   "id": "4238288c",
   "metadata": {},
   "outputs": [],
   "source": [
    "# Evaluate the model using Mean Squared Error (MSE) and Mean Absolute Error (MAE)\n",
    "mse_nn = mean_squared_error(y_test, predictions_nn)\n",
    "mae_nn = mean_absolute_error(y_test, predictions_nn)\n",
    "\n",
    "print(\"By using Neural Network Regression we got:\")\n",
    "print(\"Testing data MSE:\", mse_nn)\n",
    "print(\"Testing data MAE:\", mae_nn)"
   ]
  }
 ],
 "metadata": {
  "kernelspec": {
   "display_name": "Python 3 (ipykernel)",
   "language": "python",
   "name": "python3"
  },
  "language_info": {
   "codemirror_mode": {
    "name": "ipython",
    "version": 3
   },
   "file_extension": ".py",
   "mimetype": "text/x-python",
   "name": "python",
   "nbconvert_exporter": "python",
   "pygments_lexer": "ipython3",
   "version": "3.11.5"
  }
 },
 "nbformat": 4,
 "nbformat_minor": 5
}
