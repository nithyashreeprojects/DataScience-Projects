{
 "cells": [
  {
   "cell_type": "markdown",
   "id": "6571bea0",
   "metadata": {},
   "source": [
    "# HOUSE PRICE PREDICTION"
   ]
  },
  {
   "cell_type": "markdown",
   "id": "e9181bcf",
   "metadata": {},
   "source": [
    "#### IMPORTING LIBRARIES "
   ]
  },
  {
   "cell_type": "code",
   "execution_count": 1,
   "id": "a0666ad3",
   "metadata": {},
   "outputs": [],
   "source": [
    "import pandas as pd\n",
    "import matplotlib.pyplot as plt\n",
    "import seaborn as sns\n",
    "import numpy as np"
   ]
  },
  {
   "cell_type": "code",
   "execution_count": 2,
   "id": "f1c22f72",
   "metadata": {},
   "outputs": [],
   "source": [
    "import chardet\n",
    "import warnings \n",
    "warnings.filterwarnings('ignore')\n",
    "pd.pandas.set_option('display.max_columns',0)"
   ]
  },
  {
   "cell_type": "markdown",
   "id": "0f9c48e3",
   "metadata": {},
   "source": [
    "##### The file contains characters that cannot be decoded using the UTF-8 character encoding, which is the default encoding used by pandas when reading CSV files. we third-party libraries like chardet to automatically detect the encoding of the file."
   ]
  },
  {
   "cell_type": "code",
   "execution_count": 3,
   "id": "15bc01be",
   "metadata": {},
   "outputs": [],
   "source": [
    "file_path= '/Users/jagger/Documents/DMT PROJECT/new.csv'"
   ]
  },
  {
   "cell_type": "code",
   "execution_count": 4,
   "id": "dd2a296c",
   "metadata": {},
   "outputs": [
    {
     "name": "stdout",
     "output_type": "stream",
     "text": [
      "{'encoding': 'GB2312', 'confidence': 0.99, 'language': 'Chinese'}\n"
     ]
    }
   ],
   "source": [
    "with open(file_path, 'rb') as rawdata:\n",
    "    result = chardet.detect(rawdata.read(100000))\n",
    "print(result)"
   ]
  },
  {
   "cell_type": "markdown",
   "id": "b9bad98b",
   "metadata": {},
   "source": [
    "##### The detected encoding for new.csv file is 'GB2312,' which is a Chinese character encoding. "
   ]
  },
  {
   "cell_type": "code",
   "execution_count": 7,
   "id": "5c3927bb",
   "metadata": {},
   "outputs": [],
   "source": [
    "# To read the CSV file with this encoding,\n",
    "\n",
    "df=pd.read_csv(file_path,encoding='GB2312')"
   ]
  },
  {
   "cell_type": "code",
   "execution_count": 6,
   "id": "b306be1c",
   "metadata": {},
   "outputs": [
    {
     "data": {
      "text/html": [
       "<div>\n",
       "<style scoped>\n",
       "    .dataframe tbody tr th:only-of-type {\n",
       "        vertical-align: middle;\n",
       "    }\n",
       "\n",
       "    .dataframe tbody tr th {\n",
       "        vertical-align: top;\n",
       "    }\n",
       "\n",
       "    .dataframe thead th {\n",
       "        text-align: right;\n",
       "    }\n",
       "</style>\n",
       "<table border=\"1\" class=\"dataframe\">\n",
       "  <thead>\n",
       "    <tr style=\"text-align: right;\">\n",
       "      <th></th>\n",
       "      <th>url</th>\n",
       "      <th>id</th>\n",
       "      <th>Lng</th>\n",
       "      <th>Lat</th>\n",
       "      <th>Cid</th>\n",
       "      <th>tradeTime</th>\n",
       "      <th>DOM</th>\n",
       "      <th>followers</th>\n",
       "      <th>totalPrice</th>\n",
       "      <th>price</th>\n",
       "      <th>square</th>\n",
       "      <th>livingRoom</th>\n",
       "      <th>drawingRoom</th>\n",
       "      <th>kitchen</th>\n",
       "      <th>bathRoom</th>\n",
       "      <th>floor</th>\n",
       "      <th>buildingType</th>\n",
       "      <th>constructionTime</th>\n",
       "      <th>renovationCondition</th>\n",
       "      <th>buildingStructure</th>\n",
       "      <th>ladderRatio</th>\n",
       "      <th>elevator</th>\n",
       "      <th>fiveYearsProperty</th>\n",
       "      <th>subway</th>\n",
       "      <th>district</th>\n",
       "      <th>communityAverage</th>\n",
       "    </tr>\n",
       "  </thead>\n",
       "  <tbody>\n",
       "    <tr>\n",
       "      <th>0</th>\n",
       "      <td>https://bj.lianjia.com/chengjiao/101084782030....</td>\n",
       "      <td>101084782030</td>\n",
       "      <td>116.475489</td>\n",
       "      <td>40.019520</td>\n",
       "      <td>1111027376244</td>\n",
       "      <td>2016-08-09</td>\n",
       "      <td>1464.0</td>\n",
       "      <td>106</td>\n",
       "      <td>415.0</td>\n",
       "      <td>31680</td>\n",
       "      <td>131.00</td>\n",
       "      <td>2</td>\n",
       "      <td>1</td>\n",
       "      <td>1</td>\n",
       "      <td>1</td>\n",
       "      <td>高 26</td>\n",
       "      <td>1.0</td>\n",
       "      <td>2005</td>\n",
       "      <td>3</td>\n",
       "      <td>6</td>\n",
       "      <td>0.217</td>\n",
       "      <td>1.0</td>\n",
       "      <td>0.0</td>\n",
       "      <td>1.0</td>\n",
       "      <td>7</td>\n",
       "      <td>56021.0</td>\n",
       "    </tr>\n",
       "    <tr>\n",
       "      <th>1</th>\n",
       "      <td>https://bj.lianjia.com/chengjiao/101086012217....</td>\n",
       "      <td>101086012217</td>\n",
       "      <td>116.453917</td>\n",
       "      <td>39.881534</td>\n",
       "      <td>1111027381879</td>\n",
       "      <td>2016-07-28</td>\n",
       "      <td>903.0</td>\n",
       "      <td>126</td>\n",
       "      <td>575.0</td>\n",
       "      <td>43436</td>\n",
       "      <td>132.38</td>\n",
       "      <td>2</td>\n",
       "      <td>2</td>\n",
       "      <td>1</td>\n",
       "      <td>2</td>\n",
       "      <td>高 22</td>\n",
       "      <td>1.0</td>\n",
       "      <td>2004</td>\n",
       "      <td>4</td>\n",
       "      <td>6</td>\n",
       "      <td>0.667</td>\n",
       "      <td>1.0</td>\n",
       "      <td>1.0</td>\n",
       "      <td>0.0</td>\n",
       "      <td>7</td>\n",
       "      <td>71539.0</td>\n",
       "    </tr>\n",
       "    <tr>\n",
       "      <th>2</th>\n",
       "      <td>https://bj.lianjia.com/chengjiao/101086041636....</td>\n",
       "      <td>101086041636</td>\n",
       "      <td>116.561978</td>\n",
       "      <td>39.877145</td>\n",
       "      <td>1111040862969</td>\n",
       "      <td>2016-12-11</td>\n",
       "      <td>1271.0</td>\n",
       "      <td>48</td>\n",
       "      <td>1030.0</td>\n",
       "      <td>52021</td>\n",
       "      <td>198.00</td>\n",
       "      <td>3</td>\n",
       "      <td>2</td>\n",
       "      <td>1</td>\n",
       "      <td>3</td>\n",
       "      <td>中 4</td>\n",
       "      <td>4.0</td>\n",
       "      <td>2005</td>\n",
       "      <td>3</td>\n",
       "      <td>6</td>\n",
       "      <td>0.500</td>\n",
       "      <td>1.0</td>\n",
       "      <td>0.0</td>\n",
       "      <td>0.0</td>\n",
       "      <td>7</td>\n",
       "      <td>48160.0</td>\n",
       "    </tr>\n",
       "    <tr>\n",
       "      <th>3</th>\n",
       "      <td>https://bj.lianjia.com/chengjiao/101086406841....</td>\n",
       "      <td>101086406841</td>\n",
       "      <td>116.438010</td>\n",
       "      <td>40.076114</td>\n",
       "      <td>1111043185817</td>\n",
       "      <td>2016-09-30</td>\n",
       "      <td>965.0</td>\n",
       "      <td>138</td>\n",
       "      <td>297.5</td>\n",
       "      <td>22202</td>\n",
       "      <td>134.00</td>\n",
       "      <td>3</td>\n",
       "      <td>1</td>\n",
       "      <td>1</td>\n",
       "      <td>1</td>\n",
       "      <td>底 21</td>\n",
       "      <td>1.0</td>\n",
       "      <td>2008</td>\n",
       "      <td>1</td>\n",
       "      <td>6</td>\n",
       "      <td>0.273</td>\n",
       "      <td>1.0</td>\n",
       "      <td>0.0</td>\n",
       "      <td>0.0</td>\n",
       "      <td>6</td>\n",
       "      <td>51238.0</td>\n",
       "    </tr>\n",
       "    <tr>\n",
       "      <th>4</th>\n",
       "      <td>https://bj.lianjia.com/chengjiao/101086920653....</td>\n",
       "      <td>101086920653</td>\n",
       "      <td>116.428392</td>\n",
       "      <td>39.886229</td>\n",
       "      <td>1111027381174</td>\n",
       "      <td>2016-08-28</td>\n",
       "      <td>927.0</td>\n",
       "      <td>286</td>\n",
       "      <td>392.0</td>\n",
       "      <td>48396</td>\n",
       "      <td>81.00</td>\n",
       "      <td>2</td>\n",
       "      <td>1</td>\n",
       "      <td>1</td>\n",
       "      <td>1</td>\n",
       "      <td>中 6</td>\n",
       "      <td>4.0</td>\n",
       "      <td>1960</td>\n",
       "      <td>2</td>\n",
       "      <td>2</td>\n",
       "      <td>0.333</td>\n",
       "      <td>0.0</td>\n",
       "      <td>1.0</td>\n",
       "      <td>1.0</td>\n",
       "      <td>1</td>\n",
       "      <td>62588.0</td>\n",
       "    </tr>\n",
       "  </tbody>\n",
       "</table>\n",
       "</div>"
      ],
      "text/plain": [
       "                                                 url  ... communityAverage\n",
       "0  https://bj.lianjia.com/chengjiao/101084782030....  ...          56021.0\n",
       "1  https://bj.lianjia.com/chengjiao/101086012217....  ...          71539.0\n",
       "2  https://bj.lianjia.com/chengjiao/101086041636....  ...          48160.0\n",
       "3  https://bj.lianjia.com/chengjiao/101086406841....  ...          51238.0\n",
       "4  https://bj.lianjia.com/chengjiao/101086920653....  ...          62588.0\n",
       "\n",
       "[5 rows x 26 columns]"
      ]
     },
     "execution_count": 6,
     "metadata": {},
     "output_type": "execute_result"
    }
   ],
   "source": [
    "df.head()"
   ]
  },
  {
   "cell_type": "code",
   "execution_count": 7,
   "id": "8795937e",
   "metadata": {},
   "outputs": [
    {
     "data": {
      "text/plain": [
       "(318851, 26)"
      ]
     },
     "execution_count": 7,
     "metadata": {},
     "output_type": "execute_result"
    }
   ],
   "source": [
    "df.shape # (n_rows, n_columns)"
   ]
  },
  {
   "cell_type": "code",
   "execution_count": 8,
   "id": "f6021c6f",
   "metadata": {},
   "outputs": [
    {
     "data": {
      "text/plain": [
       "Index(['url', 'id', 'Lng', 'Lat', 'Cid', 'tradeTime', 'DOM', 'followers',\n",
       "       'totalPrice', 'price', 'square', 'livingRoom', 'drawingRoom', 'kitchen',\n",
       "       'bathRoom', 'floor', 'buildingType', 'constructionTime',\n",
       "       'renovationCondition', 'buildingStructure', 'ladderRatio', 'elevator',\n",
       "       'fiveYearsProperty', 'subway', 'district', 'communityAverage'],\n",
       "      dtype='object')"
      ]
     },
     "execution_count": 8,
     "metadata": {},
     "output_type": "execute_result"
    }
   ],
   "source": [
    "df.columns"
   ]
  },
  {
   "cell_type": "code",
   "execution_count": 9,
   "id": "da1700f7",
   "metadata": {},
   "outputs": [
    {
     "name": "stdout",
     "output_type": "stream",
     "text": [
      "<class 'pandas.core.frame.DataFrame'>\n",
      "RangeIndex: 318851 entries, 0 to 318850\n",
      "Data columns (total 26 columns):\n",
      " #   Column               Non-Null Count   Dtype  \n",
      "---  ------               --------------   -----  \n",
      " 0   url                  318851 non-null  object \n",
      " 1   id                   318851 non-null  object \n",
      " 2   Lng                  318851 non-null  float64\n",
      " 3   Lat                  318851 non-null  float64\n",
      " 4   Cid                  318851 non-null  int64  \n",
      " 5   tradeTime            318851 non-null  object \n",
      " 6   DOM                  160874 non-null  float64\n",
      " 7   followers            318851 non-null  int64  \n",
      " 8   totalPrice           318851 non-null  float64\n",
      " 9   price                318851 non-null  int64  \n",
      " 10  square               318851 non-null  float64\n",
      " 11  livingRoom           318851 non-null  object \n",
      " 12  drawingRoom          318851 non-null  object \n",
      " 13  kitchen              318851 non-null  int64  \n",
      " 14  bathRoom             318851 non-null  object \n",
      " 15  floor                318851 non-null  object \n",
      " 16  buildingType         316830 non-null  float64\n",
      " 17  constructionTime     318851 non-null  object \n",
      " 18  renovationCondition  318851 non-null  int64  \n",
      " 19  buildingStructure    318851 non-null  int64  \n",
      " 20  ladderRatio          318851 non-null  float64\n",
      " 21  elevator             318819 non-null  float64\n",
      " 22  fiveYearsProperty    318819 non-null  float64\n",
      " 23  subway               318819 non-null  float64\n",
      " 24  district             318851 non-null  int64  \n",
      " 25  communityAverage     318388 non-null  float64\n",
      "dtypes: float64(11), int64(7), object(8)\n",
      "memory usage: 63.2+ MB\n"
     ]
    }
   ],
   "source": [
    "df.info()"
   ]
  },
  {
   "cell_type": "markdown",
   "id": "e93bd2ba",
   "metadata": {},
   "source": [
    "##### df.info() gives the following detailss:\n",
    "#####  1. total number of rows and columns \n",
    "#####  2. the names of columns \n",
    "#####  3. the count of non-null values for each column\n",
    "#####  4. the datatype of each column (int64, float64, object)\n",
    "#####  5. memory usage which is the amount of memory used by the Dataframe."
   ]
  },
  {
   "cell_type": "code",
   "execution_count": 10,
   "id": "75ab880d",
   "metadata": {},
   "outputs": [
    {
     "data": {
      "text/plain": [
       "url                         0\n",
       "id                          0\n",
       "Lng                         0\n",
       "Lat                         0\n",
       "Cid                         0\n",
       "tradeTime                   0\n",
       "DOM                    157977\n",
       "followers                   0\n",
       "totalPrice                  0\n",
       "price                       0\n",
       "square                      0\n",
       "livingRoom                  0\n",
       "drawingRoom                 0\n",
       "kitchen                     0\n",
       "bathRoom                    0\n",
       "floor                       0\n",
       "buildingType             2021\n",
       "constructionTime            0\n",
       "renovationCondition         0\n",
       "buildingStructure           0\n",
       "ladderRatio                 0\n",
       "elevator                   32\n",
       "fiveYearsProperty          32\n",
       "subway                     32\n",
       "district                    0\n",
       "communityAverage          463\n",
       "dtype: int64"
      ]
     },
     "execution_count": 10,
     "metadata": {},
     "output_type": "execute_result"
    }
   ],
   "source": [
    "df.isnull().sum() #finds the number of missing values in each column"
   ]
  },
  {
   "cell_type": "markdown",
   "id": "a3fb7dd6",
   "metadata": {},
   "source": [
    "##### here, DOM column has 50% of missing values."
   ]
  },
  {
   "cell_type": "code",
   "execution_count": 11,
   "id": "a0f0eb3b",
   "metadata": {},
   "outputs": [
    {
     "data": {
      "image/png": "[encoded data removed]",
      "text/plain": [
       "<Figure size 640x480 with 2 Axes>"
      ]
     },
     "metadata": {},
     "output_type": "display_data"
    }
   ],
   "source": [
    "# to visualize the missing values, we can use heatmap\n",
    "\n",
    "sns.heatmap(df.isnull(), yticklabels=False)\n",
    "plt.show()"
   ]
  },
  {
   "cell_type": "markdown",
   "id": "279492e8",
   "metadata": {},
   "source": [
    "##### yticklabels=False is used to remove the y-axis labels which makes the heatmap cleaner. X-axis represents Columns of dataframes, Y-axis represents the rows pf Dataframe."
   ]
  },
  {
   "cell_type": "markdown",
   "id": "79405a85",
   "metadata": {},
   "source": [
    "### REPLACE THE MISSING DATA "
   ]
  },
  {
   "cell_type": "code",
   "execution_count": 12,
   "id": "5fedee07",
   "metadata": {},
   "outputs": [],
   "source": [
    "df.drop(columns=['DOM'], axis=1, inplace =True)"
   ]
  },
  {
   "cell_type": "code",
   "execution_count": 13,
   "id": "fcbbca91",
   "metadata": {},
   "outputs": [
    {
     "data": {
      "text/plain": [
       "(318851, 25)"
      ]
     },
     "execution_count": 13,
     "metadata": {},
     "output_type": "execute_result"
    }
   ],
   "source": [
    "df.shape"
   ]
  },
  {
   "cell_type": "code",
   "execution_count": 14,
   "id": "35f208ed",
   "metadata": {},
   "outputs": [
    {
     "data": {
      "text/plain": [
       "url                       0\n",
       "id                        0\n",
       "Lng                       0\n",
       "Lat                       0\n",
       "Cid                       0\n",
       "tradeTime                 0\n",
       "followers                 0\n",
       "totalPrice                0\n",
       "price                     0\n",
       "square                    0\n",
       "livingRoom                0\n",
       "drawingRoom               0\n",
       "kitchen                   0\n",
       "bathRoom                  0\n",
       "floor                     0\n",
       "buildingType           2021\n",
       "constructionTime          0\n",
       "renovationCondition       0\n",
       "buildingStructure         0\n",
       "ladderRatio               0\n",
       "elevator                 32\n",
       "fiveYearsProperty        32\n",
       "subway                   32\n",
       "district                  0\n",
       "communityAverage        463\n",
       "dtype: int64"
      ]
     },
     "execution_count": 14,
     "metadata": {},
     "output_type": "execute_result"
    }
   ],
   "source": [
    "df.isnull().sum()"
   ]
  },
  {
   "cell_type": "code",
   "execution_count": 15,
   "id": "4c0f900d",
   "metadata": {},
   "outputs": [],
   "source": [
    "# REPLACE THE MISSING VALUES WITH MEDIAN VALUE\n",
    "df['buildingType'].fillna(df.buildingType.mode(), inplace=True)"
   ]
  },
  {
   "cell_type": "code",
   "execution_count": 16,
   "id": "ce74d348",
   "metadata": {},
   "outputs": [],
   "source": [
    "df['elevator'].fillna(df.elevator.mode(), inplace=True)"
   ]
  },
  {
   "cell_type": "code",
   "execution_count": 17,
   "id": "65ffb2f5",
   "metadata": {},
   "outputs": [],
   "source": [
    "df['fiveYearsProperty'].fillna(df.fiveYearsProperty.mode(), inplace=True)"
   ]
  },
  {
   "cell_type": "code",
   "execution_count": 18,
   "id": "ef3743d4",
   "metadata": {},
   "outputs": [],
   "source": [
    "df['subway'].fillna(df.subway.mode(),inplace=True)"
   ]
  },
  {
   "cell_type": "code",
   "execution_count": 19,
   "id": "79781cb6",
   "metadata": {},
   "outputs": [],
   "source": [
    "df['communityAverage'].fillna(df.communityAverage.mode(), inplace=True)"
   ]
  },
  {
   "cell_type": "markdown",
   "id": "5043fc67",
   "metadata": {},
   "source": [
    "#### DATA TYPE OF COLUMNS "
   ]
  },
  {
   "cell_type": "code",
   "execution_count": 20,
   "id": "1f0e0289",
   "metadata": {},
   "outputs": [
    {
     "data": {
      "text/plain": [
       "array([2, 3, 1, 4, 5, 6, 9, 0, 7, 8, '1', '4', '3', '2', '5', '7', '9',\n",
       "       '6', '0', '#NAME?', '8'], dtype=object)"
      ]
     },
     "execution_count": 20,
     "metadata": {},
     "output_type": "execute_result"
    }
   ],
   "source": [
    "df['livingRoom'].unique()"
   ]
  },
  {
   "cell_type": "code",
   "execution_count": 21,
   "id": "26e54d30",
   "metadata": {},
   "outputs": [
    {
     "data": {
      "text/plain": [
       "array(['高 26', '高 22', '中 4', '底 21', '中 6', '中 8', '高 6', '高 10', '中 23',\n",
       "       '底 11', '底 3', '高 24', '低 23', '中 19', '高 18', '低 25', '中 12',\n",
       "       '中 14', '中 30', '中 27', '中 5', '低 18', '底 28', '中 11', '低 9',\n",
       "       '顶 7', '顶 27', '低 6', '中 17', '顶 6', '中 24', '中 15', '底 5', '中 29',\n",
       "       '顶 19', '顶 5', '中 9', '低 22', '顶 18', '低 16', '高 13', '高 9',\n",
       "       '高 17', '底 6', '中 28', '低 26', '底 15', '高 16', '底 2', '低 7',\n",
       "       '中 13', '低 33', '底 14', '高 15', '底 4', '顶 11', '中 32', '顶 16',\n",
       "       '底 18', '顶 17', '低 14', '低 10', '底 20', '高 12', '低 31', '低 30',\n",
       "       '低 19', '低 12', '中 10', '中 16', '顶 20', '底 19', '中 31', '低 13',\n",
       "       '底 10', '高 25', '中 21', '中 20', '高 20', '低 21', '低 24', '顶 4',\n",
       "       '高 21', '高 7', '中 22', '底 1', '中 7', '底 8', '顶 15', '中 18', '高 28',\n",
       "       '顶 14', '顶 13', '低 20', '底 26', '低 17', '顶 24', '底 23', '顶 3',\n",
       "       '顶 21', '底 24', '高 30', '高 11', '底 25', '高 27', '底 9', '低 11',\n",
       "       '低 28', '低 15', '顶 26', '低 34', '顶 12', '中 25', '高 8', '底 17',\n",
       "       '高 32', '高 19', '底 7', '顶 28', '顶 9', '高 31', '中 26', '顶 2', '顶 8',\n",
       "       '底 32', '中 42', '底 30', '低 32', '底 16', '低 3', '底 22', '高 14',\n",
       "       '高 23', '底 27', '底 13', '低 27', '顶 23', '低 29', '顶 22', '高 29',\n",
       "       '中 34', '顶 25', '高 34', '顶 10', '低 37', '底 12', '未知 6', '顶 32',\n",
       "       '低 42', '顶 30', '底 33', '高 42', '低 8', '高 33', '中 33', '顶 29',\n",
       "       '底 29', '未知 15', '高 37', '低 36', '低 35', '顶 34', '高 36', '中 37',\n",
       "       '中 35', '底 31', '未知 12', '顶 31', '低 63', '未知 21', '底 34', '中 57',\n",
       "       '顶 33', '钢混结构', '混合结构', '未知 11', '未知 7', '未知 10', '未知 18', '未知 8',\n",
       "       '未知 14', '未知 4', '未知 5', '未知 3', '未知 27', '未知 25', '未知 20',\n",
       "       '未知 26', '未知 9', '未知 22', '未知 23', '未知 16', '未知 19', '未知 28',\n",
       "       '中 36', '未知 17', '未知 13', '低 2', '未知 29', '未知 24', '未知 30',\n",
       "       '未知 31', '低 5'], dtype=object)"
      ]
     },
     "execution_count": 21,
     "metadata": {},
     "output_type": "execute_result"
    }
   ],
   "source": [
    "df.floor.unique()"
   ]
  },
  {
   "cell_type": "markdown",
   "id": "7d56cee7",
   "metadata": {},
   "source": [
    "##### floor has chinese character in it. so we need to change the datatype "
   ]
  },
  {
   "cell_type": "code",
   "execution_count": 22,
   "id": "4b11ac6d",
   "metadata": {},
   "outputs": [
    {
     "data": {
      "text/plain": [
       "array([1, 2, 3, 0, 4, 5, 6, 7, 2006, 2003, 1990, 2000, 1996, 2005, 2011,\n",
       "       '1', '2', '0', '3', '4', '5', '未知', 1994, 2004, '2003', '7'],\n",
       "      dtype=object)"
      ]
     },
     "execution_count": 22,
     "metadata": {},
     "output_type": "execute_result"
    }
   ],
   "source": [
    "df.bathRoom.unique()"
   ]
  },
  {
   "cell_type": "code",
   "execution_count": 23,
   "id": "6f0114bc",
   "metadata": {},
   "outputs": [
    {
     "data": {
      "text/plain": [
       "array([1, 2, 0, 4, 3, 5, '0', '1', '2', '3', '4', '中 14', '中 15', '中 16',\n",
       "       '中 6', '高 14', '顶 6', '低 6', '低 16', '高 12', '低 15', '5', '高 6',\n",
       "       '底 28', '底 11', '中 24', '底 20', '中 22'], dtype=object)"
      ]
     },
     "execution_count": 23,
     "metadata": {},
     "output_type": "execute_result"
    }
   ],
   "source": [
    "df.drawingRoom.unique()"
   ]
  },
  {
   "cell_type": "code",
   "execution_count": 24,
   "id": "ef1ddfa2",
   "metadata": {},
   "outputs": [
    {
     "data": {
      "text/plain": [
       "array(['2016-08-09', '2016-07-28', '2016-12-11', ..., '2012-01-28',\n",
       "       '2011-01-30', '2009-01-11'], dtype=object)"
      ]
     },
     "execution_count": 24,
     "metadata": {},
     "output_type": "execute_result"
    }
   ],
   "source": [
    "#we only need the year of selling and buying.\n",
    "df.tradeTime.unique()"
   ]
  },
  {
   "cell_type": "code",
   "execution_count": 25,
   "id": "afe19877",
   "metadata": {},
   "outputs": [],
   "source": [
    "def Trade_Time(x):\n",
    "    return x[0:4] #returns first four characters in the date\n",
    "\n",
    "df['tradeTime'] = df['tradeTime'].apply(Trade_Time)"
   ]
  },
  {
   "cell_type": "code",
   "execution_count": 26,
   "id": "57bfb43b",
   "metadata": {},
   "outputs": [
    {
     "data": {
      "text/html": [
       "<div>\n",
       "<style scoped>\n",
       "    .dataframe tbody tr th:only-of-type {\n",
       "        vertical-align: middle;\n",
       "    }\n",
       "\n",
       "    .dataframe tbody tr th {\n",
       "        vertical-align: top;\n",
       "    }\n",
       "\n",
       "    .dataframe thead th {\n",
       "        text-align: right;\n",
       "    }\n",
       "</style>\n",
       "<table border=\"1\" class=\"dataframe\">\n",
       "  <thead>\n",
       "    <tr style=\"text-align: right;\">\n",
       "      <th></th>\n",
       "      <th>url</th>\n",
       "      <th>id</th>\n",
       "      <th>Lng</th>\n",
       "      <th>Lat</th>\n",
       "      <th>Cid</th>\n",
       "      <th>tradeTime</th>\n",
       "      <th>followers</th>\n",
       "      <th>totalPrice</th>\n",
       "      <th>price</th>\n",
       "      <th>square</th>\n",
       "      <th>livingRoom</th>\n",
       "      <th>drawingRoom</th>\n",
       "      <th>kitchen</th>\n",
       "      <th>bathRoom</th>\n",
       "      <th>floor</th>\n",
       "      <th>buildingType</th>\n",
       "      <th>constructionTime</th>\n",
       "      <th>renovationCondition</th>\n",
       "      <th>buildingStructure</th>\n",
       "      <th>ladderRatio</th>\n",
       "      <th>elevator</th>\n",
       "      <th>fiveYearsProperty</th>\n",
       "      <th>subway</th>\n",
       "      <th>district</th>\n",
       "      <th>communityAverage</th>\n",
       "    </tr>\n",
       "  </thead>\n",
       "  <tbody>\n",
       "    <tr>\n",
       "      <th>0</th>\n",
       "      <td>https://bj.lianjia.com/chengjiao/101084782030....</td>\n",
       "      <td>101084782030</td>\n",
       "      <td>116.475489</td>\n",
       "      <td>40.019520</td>\n",
       "      <td>1111027376244</td>\n",
       "      <td>2016</td>\n",
       "      <td>106</td>\n",
       "      <td>415.0</td>\n",
       "      <td>31680</td>\n",
       "      <td>131.00</td>\n",
       "      <td>2</td>\n",
       "      <td>1</td>\n",
       "      <td>1</td>\n",
       "      <td>1</td>\n",
       "      <td>高 26</td>\n",
       "      <td>1.0</td>\n",
       "      <td>2005</td>\n",
       "      <td>3</td>\n",
       "      <td>6</td>\n",
       "      <td>0.217</td>\n",
       "      <td>1.0</td>\n",
       "      <td>0.0</td>\n",
       "      <td>1.0</td>\n",
       "      <td>7</td>\n",
       "      <td>56021.0</td>\n",
       "    </tr>\n",
       "    <tr>\n",
       "      <th>1</th>\n",
       "      <td>https://bj.lianjia.com/chengjiao/101086012217....</td>\n",
       "      <td>101086012217</td>\n",
       "      <td>116.453917</td>\n",
       "      <td>39.881534</td>\n",
       "      <td>1111027381879</td>\n",
       "      <td>2016</td>\n",
       "      <td>126</td>\n",
       "      <td>575.0</td>\n",
       "      <td>43436</td>\n",
       "      <td>132.38</td>\n",
       "      <td>2</td>\n",
       "      <td>2</td>\n",
       "      <td>1</td>\n",
       "      <td>2</td>\n",
       "      <td>高 22</td>\n",
       "      <td>1.0</td>\n",
       "      <td>2004</td>\n",
       "      <td>4</td>\n",
       "      <td>6</td>\n",
       "      <td>0.667</td>\n",
       "      <td>1.0</td>\n",
       "      <td>1.0</td>\n",
       "      <td>0.0</td>\n",
       "      <td>7</td>\n",
       "      <td>71539.0</td>\n",
       "    </tr>\n",
       "    <tr>\n",
       "      <th>2</th>\n",
       "      <td>https://bj.lianjia.com/chengjiao/101086041636....</td>\n",
       "      <td>101086041636</td>\n",
       "      <td>116.561978</td>\n",
       "      <td>39.877145</td>\n",
       "      <td>1111040862969</td>\n",
       "      <td>2016</td>\n",
       "      <td>48</td>\n",
       "      <td>1030.0</td>\n",
       "      <td>52021</td>\n",
       "      <td>198.00</td>\n",
       "      <td>3</td>\n",
       "      <td>2</td>\n",
       "      <td>1</td>\n",
       "      <td>3</td>\n",
       "      <td>中 4</td>\n",
       "      <td>4.0</td>\n",
       "      <td>2005</td>\n",
       "      <td>3</td>\n",
       "      <td>6</td>\n",
       "      <td>0.500</td>\n",
       "      <td>1.0</td>\n",
       "      <td>0.0</td>\n",
       "      <td>0.0</td>\n",
       "      <td>7</td>\n",
       "      <td>48160.0</td>\n",
       "    </tr>\n",
       "    <tr>\n",
       "      <th>3</th>\n",
       "      <td>https://bj.lianjia.com/chengjiao/101086406841....</td>\n",
       "      <td>101086406841</td>\n",
       "      <td>116.438010</td>\n",
       "      <td>40.076114</td>\n",
       "      <td>1111043185817</td>\n",
       "      <td>2016</td>\n",
       "      <td>138</td>\n",
       "      <td>297.5</td>\n",
       "      <td>22202</td>\n",
       "      <td>134.00</td>\n",
       "      <td>3</td>\n",
       "      <td>1</td>\n",
       "      <td>1</td>\n",
       "      <td>1</td>\n",
       "      <td>底 21</td>\n",
       "      <td>1.0</td>\n",
       "      <td>2008</td>\n",
       "      <td>1</td>\n",
       "      <td>6</td>\n",
       "      <td>0.273</td>\n",
       "      <td>1.0</td>\n",
       "      <td>0.0</td>\n",
       "      <td>0.0</td>\n",
       "      <td>6</td>\n",
       "      <td>51238.0</td>\n",
       "    </tr>\n",
       "    <tr>\n",
       "      <th>4</th>\n",
       "      <td>https://bj.lianjia.com/chengjiao/101086920653....</td>\n",
       "      <td>101086920653</td>\n",
       "      <td>116.428392</td>\n",
       "      <td>39.886229</td>\n",
       "      <td>1111027381174</td>\n",
       "      <td>2016</td>\n",
       "      <td>286</td>\n",
       "      <td>392.0</td>\n",
       "      <td>48396</td>\n",
       "      <td>81.00</td>\n",
       "      <td>2</td>\n",
       "      <td>1</td>\n",
       "      <td>1</td>\n",
       "      <td>1</td>\n",
       "      <td>中 6</td>\n",
       "      <td>4.0</td>\n",
       "      <td>1960</td>\n",
       "      <td>2</td>\n",
       "      <td>2</td>\n",
       "      <td>0.333</td>\n",
       "      <td>0.0</td>\n",
       "      <td>1.0</td>\n",
       "      <td>1.0</td>\n",
       "      <td>1</td>\n",
       "      <td>62588.0</td>\n",
       "    </tr>\n",
       "  </tbody>\n",
       "</table>\n",
       "</div>"
      ],
      "text/plain": [
       "                                                 url  ... communityAverage\n",
       "0  https://bj.lianjia.com/chengjiao/101084782030....  ...          56021.0\n",
       "1  https://bj.lianjia.com/chengjiao/101086012217....  ...          71539.0\n",
       "2  https://bj.lianjia.com/chengjiao/101086041636....  ...          48160.0\n",
       "3  https://bj.lianjia.com/chengjiao/101086406841....  ...          51238.0\n",
       "4  https://bj.lianjia.com/chengjiao/101086920653....  ...          62588.0\n",
       "\n",
       "[5 rows x 25 columns]"
      ]
     },
     "execution_count": 26,
     "metadata": {},
     "output_type": "execute_result"
    }
   ],
   "source": [
    "df.head()"
   ]
  },
  {
   "cell_type": "code",
   "execution_count": 27,
   "id": "a8472821",
   "metadata": {},
   "outputs": [],
   "source": [
    "df.tradeTime = pd.to_numeric(df.tradeTime)"
   ]
  },
  {
   "cell_type": "code",
   "execution_count": 28,
   "id": "f1b1bbe9",
   "metadata": {},
   "outputs": [],
   "source": [
    "df.livingRoom=df.livingRoom.apply(pd.to_numeric,errors='coerce')\n",
    "# coerce - if it cannot be changed to numeric, the value must be set to null"
   ]
  },
  {
   "cell_type": "code",
   "execution_count": 29,
   "id": "351c0f82",
   "metadata": {},
   "outputs": [],
   "source": [
    "df.drawingRoom = df.drawingRoom.apply(pd.to_numeric,errors='coerce')"
   ]
  },
  {
   "cell_type": "code",
   "execution_count": 30,
   "id": "a4b207f0",
   "metadata": {},
   "outputs": [],
   "source": [
    "df.bathRoom = df.bathRoom.apply(pd.to_numeric,errors='coerce')"
   ]
  },
  {
   "cell_type": "code",
   "execution_count": 31,
   "id": "f6ba890d",
   "metadata": {},
   "outputs": [],
   "source": [
    "df.constructionTime = df.constructionTime.apply(pd.to_numeric , errors = 'coerce')"
   ]
  },
  {
   "cell_type": "code",
   "execution_count": 32,
   "id": "7bfc7689",
   "metadata": {},
   "outputs": [
    {
     "data": {
      "text/plain": [
       "array([ 2.,  3.,  1.,  4.,  5.,  6.,  9.,  0.,  7.,  8., nan])"
      ]
     },
     "execution_count": 32,
     "metadata": {},
     "output_type": "execute_result"
    }
   ],
   "source": [
    "#checking for clean data\n",
    "df.livingRoom.unique()"
   ]
  },
  {
   "cell_type": "code",
   "execution_count": 33,
   "id": "54e18739",
   "metadata": {},
   "outputs": [],
   "source": [
    "# for dropping unnecessary columns \n",
    "#df =df.drop(columns=['floor','url','id','Cid','price'])"
   ]
  },
  {
   "cell_type": "code",
   "execution_count": 34,
   "id": "6c033a2b",
   "metadata": {},
   "outputs": [
    {
     "data": {
      "text/html": [
       "<div>\n",
       "<style scoped>\n",
       "    .dataframe tbody tr th:only-of-type {\n",
       "        vertical-align: middle;\n",
       "    }\n",
       "\n",
       "    .dataframe tbody tr th {\n",
       "        vertical-align: top;\n",
       "    }\n",
       "\n",
       "    .dataframe thead th {\n",
       "        text-align: right;\n",
       "    }\n",
       "</style>\n",
       "<table border=\"1\" class=\"dataframe\">\n",
       "  <thead>\n",
       "    <tr style=\"text-align: right;\">\n",
       "      <th></th>\n",
       "      <th>url</th>\n",
       "      <th>id</th>\n",
       "      <th>Lng</th>\n",
       "      <th>Lat</th>\n",
       "      <th>Cid</th>\n",
       "      <th>tradeTime</th>\n",
       "      <th>followers</th>\n",
       "      <th>totalPrice</th>\n",
       "      <th>price</th>\n",
       "      <th>square</th>\n",
       "      <th>livingRoom</th>\n",
       "      <th>drawingRoom</th>\n",
       "      <th>kitchen</th>\n",
       "      <th>bathRoom</th>\n",
       "      <th>floor</th>\n",
       "      <th>buildingType</th>\n",
       "      <th>constructionTime</th>\n",
       "      <th>renovationCondition</th>\n",
       "      <th>buildingStructure</th>\n",
       "      <th>ladderRatio</th>\n",
       "      <th>elevator</th>\n",
       "      <th>fiveYearsProperty</th>\n",
       "      <th>subway</th>\n",
       "      <th>district</th>\n",
       "      <th>communityAverage</th>\n",
       "    </tr>\n",
       "  </thead>\n",
       "  <tbody>\n",
       "    <tr>\n",
       "      <th>0</th>\n",
       "      <td>https://bj.lianjia.com/chengjiao/101084782030....</td>\n",
       "      <td>101084782030</td>\n",
       "      <td>116.475489</td>\n",
       "      <td>40.019520</td>\n",
       "      <td>1111027376244</td>\n",
       "      <td>2016</td>\n",
       "      <td>106</td>\n",
       "      <td>415.0</td>\n",
       "      <td>31680</td>\n",
       "      <td>131.00</td>\n",
       "      <td>2.0</td>\n",
       "      <td>1.0</td>\n",
       "      <td>1</td>\n",
       "      <td>1.0</td>\n",
       "      <td>高 26</td>\n",
       "      <td>1.0</td>\n",
       "      <td>2005.0</td>\n",
       "      <td>3</td>\n",
       "      <td>6</td>\n",
       "      <td>0.217</td>\n",
       "      <td>1.0</td>\n",
       "      <td>0.0</td>\n",
       "      <td>1.0</td>\n",
       "      <td>7</td>\n",
       "      <td>56021.0</td>\n",
       "    </tr>\n",
       "    <tr>\n",
       "      <th>1</th>\n",
       "      <td>https://bj.lianjia.com/chengjiao/101086012217....</td>\n",
       "      <td>101086012217</td>\n",
       "      <td>116.453917</td>\n",
       "      <td>39.881534</td>\n",
       "      <td>1111027381879</td>\n",
       "      <td>2016</td>\n",
       "      <td>126</td>\n",
       "      <td>575.0</td>\n",
       "      <td>43436</td>\n",
       "      <td>132.38</td>\n",
       "      <td>2.0</td>\n",
       "      <td>2.0</td>\n",
       "      <td>1</td>\n",
       "      <td>2.0</td>\n",
       "      <td>高 22</td>\n",
       "      <td>1.0</td>\n",
       "      <td>2004.0</td>\n",
       "      <td>4</td>\n",
       "      <td>6</td>\n",
       "      <td>0.667</td>\n",
       "      <td>1.0</td>\n",
       "      <td>1.0</td>\n",
       "      <td>0.0</td>\n",
       "      <td>7</td>\n",
       "      <td>71539.0</td>\n",
       "    </tr>\n",
       "    <tr>\n",
       "      <th>2</th>\n",
       "      <td>https://bj.lianjia.com/chengjiao/101086041636....</td>\n",
       "      <td>101086041636</td>\n",
       "      <td>116.561978</td>\n",
       "      <td>39.877145</td>\n",
       "      <td>1111040862969</td>\n",
       "      <td>2016</td>\n",
       "      <td>48</td>\n",
       "      <td>1030.0</td>\n",
       "      <td>52021</td>\n",
       "      <td>198.00</td>\n",
       "      <td>3.0</td>\n",
       "      <td>2.0</td>\n",
       "      <td>1</td>\n",
       "      <td>3.0</td>\n",
       "      <td>中 4</td>\n",
       "      <td>4.0</td>\n",
       "      <td>2005.0</td>\n",
       "      <td>3</td>\n",
       "      <td>6</td>\n",
       "      <td>0.500</td>\n",
       "      <td>1.0</td>\n",
       "      <td>0.0</td>\n",
       "      <td>0.0</td>\n",
       "      <td>7</td>\n",
       "      <td>48160.0</td>\n",
       "    </tr>\n",
       "    <tr>\n",
       "      <th>3</th>\n",
       "      <td>https://bj.lianjia.com/chengjiao/101086406841....</td>\n",
       "      <td>101086406841</td>\n",
       "      <td>116.438010</td>\n",
       "      <td>40.076114</td>\n",
       "      <td>1111043185817</td>\n",
       "      <td>2016</td>\n",
       "      <td>138</td>\n",
       "      <td>297.5</td>\n",
       "      <td>22202</td>\n",
       "      <td>134.00</td>\n",
       "      <td>3.0</td>\n",
       "      <td>1.0</td>\n",
       "      <td>1</td>\n",
       "      <td>1.0</td>\n",
       "      <td>底 21</td>\n",
       "      <td>1.0</td>\n",
       "      <td>2008.0</td>\n",
       "      <td>1</td>\n",
       "      <td>6</td>\n",
       "      <td>0.273</td>\n",
       "      <td>1.0</td>\n",
       "      <td>0.0</td>\n",
       "      <td>0.0</td>\n",
       "      <td>6</td>\n",
       "      <td>51238.0</td>\n",
       "    </tr>\n",
       "    <tr>\n",
       "      <th>4</th>\n",
       "      <td>https://bj.lianjia.com/chengjiao/101086920653....</td>\n",
       "      <td>101086920653</td>\n",
       "      <td>116.428392</td>\n",
       "      <td>39.886229</td>\n",
       "      <td>1111027381174</td>\n",
       "      <td>2016</td>\n",
       "      <td>286</td>\n",
       "      <td>392.0</td>\n",
       "      <td>48396</td>\n",
       "      <td>81.00</td>\n",
       "      <td>2.0</td>\n",
       "      <td>1.0</td>\n",
       "      <td>1</td>\n",
       "      <td>1.0</td>\n",
       "      <td>中 6</td>\n",
       "      <td>4.0</td>\n",
       "      <td>1960.0</td>\n",
       "      <td>2</td>\n",
       "      <td>2</td>\n",
       "      <td>0.333</td>\n",
       "      <td>0.0</td>\n",
       "      <td>1.0</td>\n",
       "      <td>1.0</td>\n",
       "      <td>1</td>\n",
       "      <td>62588.0</td>\n",
       "    </tr>\n",
       "  </tbody>\n",
       "</table>\n",
       "</div>"
      ],
      "text/plain": [
       "                                                 url  ... communityAverage\n",
       "0  https://bj.lianjia.com/chengjiao/101084782030....  ...          56021.0\n",
       "1  https://bj.lianjia.com/chengjiao/101086012217....  ...          71539.0\n",
       "2  https://bj.lianjia.com/chengjiao/101086041636....  ...          48160.0\n",
       "3  https://bj.lianjia.com/chengjiao/101086406841....  ...          51238.0\n",
       "4  https://bj.lianjia.com/chengjiao/101086920653....  ...          62588.0\n",
       "\n",
       "[5 rows x 25 columns]"
      ]
     },
     "execution_count": 34,
     "metadata": {},
     "output_type": "execute_result"
    }
   ],
   "source": [
    "df.head()"
   ]
  },
  {
   "cell_type": "markdown",
   "id": "aa1a400d",
   "metadata": {},
   "source": [
    "mode- categorical\n",
    "median and mean - numerical"
   ]
  },
  {
   "cell_type": "code",
   "execution_count": 35,
   "id": "e2a27b71",
   "metadata": {},
   "outputs": [],
   "source": [
    "newlist_floor = [] #creating a new list to store just the floor numbers\n",
    "for i in list(df['floor']):\n",
    "    temp = i.split(\" \") #splits the chinese element and the number - chinese element has index 0 and the number has index 1\n",
    "    if len(temp)>1: # if a number is followed by a chinese element\n",
    "        newlist_floor.append(temp[1]) #append the number\n",
    "    else:\n",
    "        newlist_floor.append('NaN') #append NaN\n",
    "    #newlist_floor.append(temp[1])"
   ]
  },
  {
   "cell_type": "code",
   "execution_count": 36,
   "id": "9f896f7b",
   "metadata": {},
   "outputs": [],
   "source": [
    "df['floor'] = newlist_floor"
   ]
  },
  {
   "cell_type": "code",
   "execution_count": 37,
   "id": "60a12269",
   "metadata": {},
   "outputs": [
    {
     "data": {
      "text/html": [
       "<div>\n",
       "<style scoped>\n",
       "    .dataframe tbody tr th:only-of-type {\n",
       "        vertical-align: middle;\n",
       "    }\n",
       "\n",
       "    .dataframe tbody tr th {\n",
       "        vertical-align: top;\n",
       "    }\n",
       "\n",
       "    .dataframe thead th {\n",
       "        text-align: right;\n",
       "    }\n",
       "</style>\n",
       "<table border=\"1\" class=\"dataframe\">\n",
       "  <thead>\n",
       "    <tr style=\"text-align: right;\">\n",
       "      <th></th>\n",
       "      <th>url</th>\n",
       "      <th>id</th>\n",
       "      <th>Lng</th>\n",
       "      <th>Lat</th>\n",
       "      <th>Cid</th>\n",
       "      <th>tradeTime</th>\n",
       "      <th>followers</th>\n",
       "      <th>totalPrice</th>\n",
       "      <th>price</th>\n",
       "      <th>square</th>\n",
       "      <th>livingRoom</th>\n",
       "      <th>drawingRoom</th>\n",
       "      <th>kitchen</th>\n",
       "      <th>bathRoom</th>\n",
       "      <th>floor</th>\n",
       "      <th>buildingType</th>\n",
       "      <th>constructionTime</th>\n",
       "      <th>renovationCondition</th>\n",
       "      <th>buildingStructure</th>\n",
       "      <th>ladderRatio</th>\n",
       "      <th>elevator</th>\n",
       "      <th>fiveYearsProperty</th>\n",
       "      <th>subway</th>\n",
       "      <th>district</th>\n",
       "      <th>communityAverage</th>\n",
       "    </tr>\n",
       "  </thead>\n",
       "  <tbody>\n",
       "    <tr>\n",
       "      <th>0</th>\n",
       "      <td>https://bj.lianjia.com/chengjiao/101084782030....</td>\n",
       "      <td>101084782030</td>\n",
       "      <td>116.475489</td>\n",
       "      <td>40.019520</td>\n",
       "      <td>1111027376244</td>\n",
       "      <td>2016</td>\n",
       "      <td>106</td>\n",
       "      <td>415.0</td>\n",
       "      <td>31680</td>\n",
       "      <td>131.00</td>\n",
       "      <td>2.0</td>\n",
       "      <td>1.0</td>\n",
       "      <td>1</td>\n",
       "      <td>1.0</td>\n",
       "      <td>26</td>\n",
       "      <td>1.0</td>\n",
       "      <td>2005.0</td>\n",
       "      <td>3</td>\n",
       "      <td>6</td>\n",
       "      <td>0.217</td>\n",
       "      <td>1.0</td>\n",
       "      <td>0.0</td>\n",
       "      <td>1.0</td>\n",
       "      <td>7</td>\n",
       "      <td>56021.0</td>\n",
       "    </tr>\n",
       "    <tr>\n",
       "      <th>1</th>\n",
       "      <td>https://bj.lianjia.com/chengjiao/101086012217....</td>\n",
       "      <td>101086012217</td>\n",
       "      <td>116.453917</td>\n",
       "      <td>39.881534</td>\n",
       "      <td>1111027381879</td>\n",
       "      <td>2016</td>\n",
       "      <td>126</td>\n",
       "      <td>575.0</td>\n",
       "      <td>43436</td>\n",
       "      <td>132.38</td>\n",
       "      <td>2.0</td>\n",
       "      <td>2.0</td>\n",
       "      <td>1</td>\n",
       "      <td>2.0</td>\n",
       "      <td>22</td>\n",
       "      <td>1.0</td>\n",
       "      <td>2004.0</td>\n",
       "      <td>4</td>\n",
       "      <td>6</td>\n",
       "      <td>0.667</td>\n",
       "      <td>1.0</td>\n",
       "      <td>1.0</td>\n",
       "      <td>0.0</td>\n",
       "      <td>7</td>\n",
       "      <td>71539.0</td>\n",
       "    </tr>\n",
       "    <tr>\n",
       "      <th>2</th>\n",
       "      <td>https://bj.lianjia.com/chengjiao/101086041636....</td>\n",
       "      <td>101086041636</td>\n",
       "      <td>116.561978</td>\n",
       "      <td>39.877145</td>\n",
       "      <td>1111040862969</td>\n",
       "      <td>2016</td>\n",
       "      <td>48</td>\n",
       "      <td>1030.0</td>\n",
       "      <td>52021</td>\n",
       "      <td>198.00</td>\n",
       "      <td>3.0</td>\n",
       "      <td>2.0</td>\n",
       "      <td>1</td>\n",
       "      <td>3.0</td>\n",
       "      <td>4</td>\n",
       "      <td>4.0</td>\n",
       "      <td>2005.0</td>\n",
       "      <td>3</td>\n",
       "      <td>6</td>\n",
       "      <td>0.500</td>\n",
       "      <td>1.0</td>\n",
       "      <td>0.0</td>\n",
       "      <td>0.0</td>\n",
       "      <td>7</td>\n",
       "      <td>48160.0</td>\n",
       "    </tr>\n",
       "    <tr>\n",
       "      <th>3</th>\n",
       "      <td>https://bj.lianjia.com/chengjiao/101086406841....</td>\n",
       "      <td>101086406841</td>\n",
       "      <td>116.438010</td>\n",
       "      <td>40.076114</td>\n",
       "      <td>1111043185817</td>\n",
       "      <td>2016</td>\n",
       "      <td>138</td>\n",
       "      <td>297.5</td>\n",
       "      <td>22202</td>\n",
       "      <td>134.00</td>\n",
       "      <td>3.0</td>\n",
       "      <td>1.0</td>\n",
       "      <td>1</td>\n",
       "      <td>1.0</td>\n",
       "      <td>21</td>\n",
       "      <td>1.0</td>\n",
       "      <td>2008.0</td>\n",
       "      <td>1</td>\n",
       "      <td>6</td>\n",
       "      <td>0.273</td>\n",
       "      <td>1.0</td>\n",
       "      <td>0.0</td>\n",
       "      <td>0.0</td>\n",
       "      <td>6</td>\n",
       "      <td>51238.0</td>\n",
       "    </tr>\n",
       "    <tr>\n",
       "      <th>4</th>\n",
       "      <td>https://bj.lianjia.com/chengjiao/101086920653....</td>\n",
       "      <td>101086920653</td>\n",
       "      <td>116.428392</td>\n",
       "      <td>39.886229</td>\n",
       "      <td>1111027381174</td>\n",
       "      <td>2016</td>\n",
       "      <td>286</td>\n",
       "      <td>392.0</td>\n",
       "      <td>48396</td>\n",
       "      <td>81.00</td>\n",
       "      <td>2.0</td>\n",
       "      <td>1.0</td>\n",
       "      <td>1</td>\n",
       "      <td>1.0</td>\n",
       "      <td>6</td>\n",
       "      <td>4.0</td>\n",
       "      <td>1960.0</td>\n",
       "      <td>2</td>\n",
       "      <td>2</td>\n",
       "      <td>0.333</td>\n",
       "      <td>0.0</td>\n",
       "      <td>1.0</td>\n",
       "      <td>1.0</td>\n",
       "      <td>1</td>\n",
       "      <td>62588.0</td>\n",
       "    </tr>\n",
       "    <tr>\n",
       "      <th>...</th>\n",
       "      <td>...</td>\n",
       "      <td>...</td>\n",
       "      <td>...</td>\n",
       "      <td>...</td>\n",
       "      <td>...</td>\n",
       "      <td>...</td>\n",
       "      <td>...</td>\n",
       "      <td>...</td>\n",
       "      <td>...</td>\n",
       "      <td>...</td>\n",
       "      <td>...</td>\n",
       "      <td>...</td>\n",
       "      <td>...</td>\n",
       "      <td>...</td>\n",
       "      <td>...</td>\n",
       "      <td>...</td>\n",
       "      <td>...</td>\n",
       "      <td>...</td>\n",
       "      <td>...</td>\n",
       "      <td>...</td>\n",
       "      <td>...</td>\n",
       "      <td>...</td>\n",
       "      <td>...</td>\n",
       "      <td>...</td>\n",
       "      <td>...</td>\n",
       "    </tr>\n",
       "    <tr>\n",
       "      <th>318846</th>\n",
       "      <td>https://bj.lianjia.com/chengjiao/BJYZ92311192....</td>\n",
       "      <td>BJYZ92311192</td>\n",
       "      <td>116.546899</td>\n",
       "      <td>39.755236</td>\n",
       "      <td>1111027377053</td>\n",
       "      <td>2016</td>\n",
       "      <td>8</td>\n",
       "      <td>350.0</td>\n",
       "      <td>20580</td>\n",
       "      <td>170.07</td>\n",
       "      <td>3.0</td>\n",
       "      <td>2.0</td>\n",
       "      <td>1</td>\n",
       "      <td>2.0</td>\n",
       "      <td>5</td>\n",
       "      <td>4.0</td>\n",
       "      <td>2003.0</td>\n",
       "      <td>1</td>\n",
       "      <td>6</td>\n",
       "      <td>0.333</td>\n",
       "      <td>0.0</td>\n",
       "      <td>1.0</td>\n",
       "      <td>0.0</td>\n",
       "      <td>3</td>\n",
       "      <td>36545.0</td>\n",
       "    </tr>\n",
       "    <tr>\n",
       "      <th>318847</th>\n",
       "      <td>https://bj.lianjia.com/chengjiao/BJYZ92320171....</td>\n",
       "      <td>BJYZ92320171</td>\n",
       "      <td>116.497474</td>\n",
       "      <td>39.810115</td>\n",
       "      <td>1111027377957</td>\n",
       "      <td>2016</td>\n",
       "      <td>1</td>\n",
       "      <td>108.8</td>\n",
       "      <td>31006</td>\n",
       "      <td>35.09</td>\n",
       "      <td>1.0</td>\n",
       "      <td>0.0</td>\n",
       "      <td>1</td>\n",
       "      <td>1.0</td>\n",
       "      <td>24</td>\n",
       "      <td>1.0</td>\n",
       "      <td>2009.0</td>\n",
       "      <td>1</td>\n",
       "      <td>6</td>\n",
       "      <td>0.222</td>\n",
       "      <td>1.0</td>\n",
       "      <td>0.0</td>\n",
       "      <td>1.0</td>\n",
       "      <td>3</td>\n",
       "      <td>54282.0</td>\n",
       "    </tr>\n",
       "    <tr>\n",
       "      <th>318848</th>\n",
       "      <td>https://bj.lianjia.com/chengjiao/BJYZ92324217....</td>\n",
       "      <td>BJYZ92324217</td>\n",
       "      <td>116.497256</td>\n",
       "      <td>39.804081</td>\n",
       "      <td>1111027380056</td>\n",
       "      <td>2016</td>\n",
       "      <td>2</td>\n",
       "      <td>359.0</td>\n",
       "      <td>35138</td>\n",
       "      <td>102.17</td>\n",
       "      <td>2.0</td>\n",
       "      <td>2.0</td>\n",
       "      <td>1</td>\n",
       "      <td>2.0</td>\n",
       "      <td>7</td>\n",
       "      <td>4.0</td>\n",
       "      <td>2000.0</td>\n",
       "      <td>3</td>\n",
       "      <td>6</td>\n",
       "      <td>0.500</td>\n",
       "      <td>1.0</td>\n",
       "      <td>1.0</td>\n",
       "      <td>0.0</td>\n",
       "      <td>3</td>\n",
       "      <td>46927.0</td>\n",
       "    </tr>\n",
       "    <tr>\n",
       "      <th>318849</th>\n",
       "      <td>https://bj.lianjia.com/chengjiao/BJYZ92333313....</td>\n",
       "      <td>BJYZ92333313</td>\n",
       "      <td>116.501794</td>\n",
       "      <td>39.799347</td>\n",
       "      <td>1111027377054</td>\n",
       "      <td>2016</td>\n",
       "      <td>4</td>\n",
       "      <td>720.0</td>\n",
       "      <td>40373</td>\n",
       "      <td>178.34</td>\n",
       "      <td>4.0</td>\n",
       "      <td>2.0</td>\n",
       "      <td>1</td>\n",
       "      <td>2.0</td>\n",
       "      <td>5</td>\n",
       "      <td>4.0</td>\n",
       "      <td>2003.0</td>\n",
       "      <td>4</td>\n",
       "      <td>2</td>\n",
       "      <td>0.500</td>\n",
       "      <td>0.0</td>\n",
       "      <td>1.0</td>\n",
       "      <td>0.0</td>\n",
       "      <td>3</td>\n",
       "      <td>54842.0</td>\n",
       "    </tr>\n",
       "    <tr>\n",
       "      <th>318850</th>\n",
       "      <td>https://bj.lianjia.com/chengjiao/BJYZ92363553....</td>\n",
       "      <td>BJYZ92363553</td>\n",
       "      <td>116.497474</td>\n",
       "      <td>39.810115</td>\n",
       "      <td>1111027377957</td>\n",
       "      <td>2016</td>\n",
       "      <td>0</td>\n",
       "      <td>450.0</td>\n",
       "      <td>48675</td>\n",
       "      <td>92.45</td>\n",
       "      <td>2.0</td>\n",
       "      <td>1.0</td>\n",
       "      <td>1</td>\n",
       "      <td>1.0</td>\n",
       "      <td>17</td>\n",
       "      <td>4.0</td>\n",
       "      <td>NaN</td>\n",
       "      <td>4</td>\n",
       "      <td>6</td>\n",
       "      <td>1.000</td>\n",
       "      <td>1.0</td>\n",
       "      <td>0.0</td>\n",
       "      <td>1.0</td>\n",
       "      <td>3</td>\n",
       "      <td>54282.0</td>\n",
       "    </tr>\n",
       "  </tbody>\n",
       "</table>\n",
       "<p>318851 rows × 25 columns</p>\n",
       "</div>"
      ],
      "text/plain": [
       "                                                      url  ... communityAverage\n",
       "0       https://bj.lianjia.com/chengjiao/101084782030....  ...          56021.0\n",
       "1       https://bj.lianjia.com/chengjiao/101086012217....  ...          71539.0\n",
       "2       https://bj.lianjia.com/chengjiao/101086041636....  ...          48160.0\n",
       "3       https://bj.lianjia.com/chengjiao/101086406841....  ...          51238.0\n",
       "4       https://bj.lianjia.com/chengjiao/101086920653....  ...          62588.0\n",
       "...                                                   ...  ...              ...\n",
       "318846  https://bj.lianjia.com/chengjiao/BJYZ92311192....  ...          36545.0\n",
       "318847  https://bj.lianjia.com/chengjiao/BJYZ92320171....  ...          54282.0\n",
       "318848  https://bj.lianjia.com/chengjiao/BJYZ92324217....  ...          46927.0\n",
       "318849  https://bj.lianjia.com/chengjiao/BJYZ92333313....  ...          54842.0\n",
       "318850  https://bj.lianjia.com/chengjiao/BJYZ92363553....  ...          54282.0\n",
       "\n",
       "[318851 rows x 25 columns]"
      ]
     },
     "execution_count": 37,
     "metadata": {},
     "output_type": "execute_result"
    }
   ],
   "source": [
    "df"
   ]
  },
  {
   "cell_type": "code",
   "execution_count": 38,
   "id": "e43346e5",
   "metadata": {},
   "outputs": [
    {
     "data": {
      "text/html": [
       "<div>\n",
       "<style scoped>\n",
       "    .dataframe tbody tr th:only-of-type {\n",
       "        vertical-align: middle;\n",
       "    }\n",
       "\n",
       "    .dataframe tbody tr th {\n",
       "        vertical-align: top;\n",
       "    }\n",
       "\n",
       "    .dataframe thead th {\n",
       "        text-align: right;\n",
       "    }\n",
       "</style>\n",
       "<table border=\"1\" class=\"dataframe\">\n",
       "  <thead>\n",
       "    <tr style=\"text-align: right;\">\n",
       "      <th></th>\n",
       "      <th>Lng</th>\n",
       "      <th>Lat</th>\n",
       "      <th>tradeTime</th>\n",
       "      <th>followers</th>\n",
       "      <th>totalPrice</th>\n",
       "      <th>price</th>\n",
       "      <th>square</th>\n",
       "      <th>livingRoom</th>\n",
       "      <th>drawingRoom</th>\n",
       "      <th>kitchen</th>\n",
       "      <th>bathRoom</th>\n",
       "      <th>floor</th>\n",
       "      <th>buildingType</th>\n",
       "      <th>constructionTime</th>\n",
       "      <th>renovationCondition</th>\n",
       "      <th>buildingStructure</th>\n",
       "      <th>ladderRatio</th>\n",
       "      <th>elevator</th>\n",
       "      <th>fiveYearsProperty</th>\n",
       "      <th>subway</th>\n",
       "      <th>district</th>\n",
       "      <th>communityAverage</th>\n",
       "    </tr>\n",
       "  </thead>\n",
       "  <tbody>\n",
       "    <tr>\n",
       "      <th>0</th>\n",
       "      <td>116.475489</td>\n",
       "      <td>40.019520</td>\n",
       "      <td>2016</td>\n",
       "      <td>106</td>\n",
       "      <td>415.0</td>\n",
       "      <td>31680</td>\n",
       "      <td>131.00</td>\n",
       "      <td>2.0</td>\n",
       "      <td>1.0</td>\n",
       "      <td>1</td>\n",
       "      <td>1.0</td>\n",
       "      <td>26</td>\n",
       "      <td>1.0</td>\n",
       "      <td>2005.0</td>\n",
       "      <td>3</td>\n",
       "      <td>6</td>\n",
       "      <td>0.217</td>\n",
       "      <td>1.0</td>\n",
       "      <td>0.0</td>\n",
       "      <td>1.0</td>\n",
       "      <td>7</td>\n",
       "      <td>56021.0</td>\n",
       "    </tr>\n",
       "    <tr>\n",
       "      <th>1</th>\n",
       "      <td>116.453917</td>\n",
       "      <td>39.881534</td>\n",
       "      <td>2016</td>\n",
       "      <td>126</td>\n",
       "      <td>575.0</td>\n",
       "      <td>43436</td>\n",
       "      <td>132.38</td>\n",
       "      <td>2.0</td>\n",
       "      <td>2.0</td>\n",
       "      <td>1</td>\n",
       "      <td>2.0</td>\n",
       "      <td>22</td>\n",
       "      <td>1.0</td>\n",
       "      <td>2004.0</td>\n",
       "      <td>4</td>\n",
       "      <td>6</td>\n",
       "      <td>0.667</td>\n",
       "      <td>1.0</td>\n",
       "      <td>1.0</td>\n",
       "      <td>0.0</td>\n",
       "      <td>7</td>\n",
       "      <td>71539.0</td>\n",
       "    </tr>\n",
       "    <tr>\n",
       "      <th>2</th>\n",
       "      <td>116.561978</td>\n",
       "      <td>39.877145</td>\n",
       "      <td>2016</td>\n",
       "      <td>48</td>\n",
       "      <td>1030.0</td>\n",
       "      <td>52021</td>\n",
       "      <td>198.00</td>\n",
       "      <td>3.0</td>\n",
       "      <td>2.0</td>\n",
       "      <td>1</td>\n",
       "      <td>3.0</td>\n",
       "      <td>4</td>\n",
       "      <td>4.0</td>\n",
       "      <td>2005.0</td>\n",
       "      <td>3</td>\n",
       "      <td>6</td>\n",
       "      <td>0.500</td>\n",
       "      <td>1.0</td>\n",
       "      <td>0.0</td>\n",
       "      <td>0.0</td>\n",
       "      <td>7</td>\n",
       "      <td>48160.0</td>\n",
       "    </tr>\n",
       "    <tr>\n",
       "      <th>3</th>\n",
       "      <td>116.438010</td>\n",
       "      <td>40.076114</td>\n",
       "      <td>2016</td>\n",
       "      <td>138</td>\n",
       "      <td>297.5</td>\n",
       "      <td>22202</td>\n",
       "      <td>134.00</td>\n",
       "      <td>3.0</td>\n",
       "      <td>1.0</td>\n",
       "      <td>1</td>\n",
       "      <td>1.0</td>\n",
       "      <td>21</td>\n",
       "      <td>1.0</td>\n",
       "      <td>2008.0</td>\n",
       "      <td>1</td>\n",
       "      <td>6</td>\n",
       "      <td>0.273</td>\n",
       "      <td>1.0</td>\n",
       "      <td>0.0</td>\n",
       "      <td>0.0</td>\n",
       "      <td>6</td>\n",
       "      <td>51238.0</td>\n",
       "    </tr>\n",
       "    <tr>\n",
       "      <th>4</th>\n",
       "      <td>116.428392</td>\n",
       "      <td>39.886229</td>\n",
       "      <td>2016</td>\n",
       "      <td>286</td>\n",
       "      <td>392.0</td>\n",
       "      <td>48396</td>\n",
       "      <td>81.00</td>\n",
       "      <td>2.0</td>\n",
       "      <td>1.0</td>\n",
       "      <td>1</td>\n",
       "      <td>1.0</td>\n",
       "      <td>6</td>\n",
       "      <td>4.0</td>\n",
       "      <td>1960.0</td>\n",
       "      <td>2</td>\n",
       "      <td>2</td>\n",
       "      <td>0.333</td>\n",
       "      <td>0.0</td>\n",
       "      <td>1.0</td>\n",
       "      <td>1.0</td>\n",
       "      <td>1</td>\n",
       "      <td>62588.0</td>\n",
       "    </tr>\n",
       "    <tr>\n",
       "      <th>5</th>\n",
       "      <td>116.466280</td>\n",
       "      <td>39.991363</td>\n",
       "      <td>2016</td>\n",
       "      <td>57</td>\n",
       "      <td>275.6</td>\n",
       "      <td>52000</td>\n",
       "      <td>53.00</td>\n",
       "      <td>1.0</td>\n",
       "      <td>0.0</td>\n",
       "      <td>1</td>\n",
       "      <td>1.0</td>\n",
       "      <td>8</td>\n",
       "      <td>4.0</td>\n",
       "      <td>2005.0</td>\n",
       "      <td>3</td>\n",
       "      <td>6</td>\n",
       "      <td>0.333</td>\n",
       "      <td>1.0</td>\n",
       "      <td>1.0</td>\n",
       "      <td>0.0</td>\n",
       "      <td>7</td>\n",
       "      <td>67738.0</td>\n",
       "    </tr>\n",
       "    <tr>\n",
       "      <th>6</th>\n",
       "      <td>116.482586</td>\n",
       "      <td>39.891991</td>\n",
       "      <td>2016</td>\n",
       "      <td>167</td>\n",
       "      <td>275.0</td>\n",
       "      <td>37672</td>\n",
       "      <td>73.00</td>\n",
       "      <td>2.0</td>\n",
       "      <td>1.0</td>\n",
       "      <td>1</td>\n",
       "      <td>1.0</td>\n",
       "      <td>6</td>\n",
       "      <td>4.0</td>\n",
       "      <td>1997.0</td>\n",
       "      <td>4</td>\n",
       "      <td>2</td>\n",
       "      <td>0.500</td>\n",
       "      <td>0.0</td>\n",
       "      <td>0.0</td>\n",
       "      <td>0.0</td>\n",
       "      <td>7</td>\n",
       "      <td>50112.0</td>\n",
       "    </tr>\n",
       "    <tr>\n",
       "      <th>7</th>\n",
       "      <td>116.453917</td>\n",
       "      <td>39.881534</td>\n",
       "      <td>2016</td>\n",
       "      <td>138</td>\n",
       "      <td>800.0</td>\n",
       "      <td>49521</td>\n",
       "      <td>161.55</td>\n",
       "      <td>3.0</td>\n",
       "      <td>2.0</td>\n",
       "      <td>1</td>\n",
       "      <td>2.0</td>\n",
       "      <td>22</td>\n",
       "      <td>1.0</td>\n",
       "      <td>2004.0</td>\n",
       "      <td>4</td>\n",
       "      <td>6</td>\n",
       "      <td>0.667</td>\n",
       "      <td>1.0</td>\n",
       "      <td>1.0</td>\n",
       "      <td>0.0</td>\n",
       "      <td>7</td>\n",
       "      <td>71539.0</td>\n",
       "    </tr>\n",
       "    <tr>\n",
       "      <th>8</th>\n",
       "      <td>116.555729</td>\n",
       "      <td>40.162058</td>\n",
       "      <td>2016</td>\n",
       "      <td>218</td>\n",
       "      <td>134.0</td>\n",
       "      <td>27917</td>\n",
       "      <td>48.00</td>\n",
       "      <td>1.0</td>\n",
       "      <td>0.0</td>\n",
       "      <td>1</td>\n",
       "      <td>1.0</td>\n",
       "      <td>10</td>\n",
       "      <td>3.0</td>\n",
       "      <td>2009.0</td>\n",
       "      <td>1</td>\n",
       "      <td>2</td>\n",
       "      <td>0.333</td>\n",
       "      <td>0.0</td>\n",
       "      <td>0.0</td>\n",
       "      <td>0.0</td>\n",
       "      <td>13</td>\n",
       "      <td>44235.0</td>\n",
       "    </tr>\n",
       "    <tr>\n",
       "      <th>9</th>\n",
       "      <td>116.453086</td>\n",
       "      <td>39.898397</td>\n",
       "      <td>2016</td>\n",
       "      <td>134</td>\n",
       "      <td>380.0</td>\n",
       "      <td>55883</td>\n",
       "      <td>68.00</td>\n",
       "      <td>1.0</td>\n",
       "      <td>0.0</td>\n",
       "      <td>0</td>\n",
       "      <td>0.0</td>\n",
       "      <td>23</td>\n",
       "      <td>1.0</td>\n",
       "      <td>2009.0</td>\n",
       "      <td>4</td>\n",
       "      <td>6</td>\n",
       "      <td>0.308</td>\n",
       "      <td>1.0</td>\n",
       "      <td>1.0</td>\n",
       "      <td>1.0</td>\n",
       "      <td>1</td>\n",
       "      <td>78590.0</td>\n",
       "    </tr>\n",
       "  </tbody>\n",
       "</table>\n",
       "</div>"
      ],
      "text/plain": [
       "          Lng        Lat  tradeTime  ...  subway  district  communityAverage\n",
       "0  116.475489  40.019520       2016  ...     1.0         7           56021.0\n",
       "1  116.453917  39.881534       2016  ...     0.0         7           71539.0\n",
       "2  116.561978  39.877145       2016  ...     0.0         7           48160.0\n",
       "3  116.438010  40.076114       2016  ...     0.0         6           51238.0\n",
       "4  116.428392  39.886229       2016  ...     1.0         1           62588.0\n",
       "5  116.466280  39.991363       2016  ...     0.0         7           67738.0\n",
       "6  116.482586  39.891991       2016  ...     0.0         7           50112.0\n",
       "7  116.453917  39.881534       2016  ...     0.0         7           71539.0\n",
       "8  116.555729  40.162058       2016  ...     0.0        13           44235.0\n",
       "9  116.453086  39.898397       2016  ...     1.0         1           78590.0\n",
       "\n",
       "[10 rows x 22 columns]"
      ]
     },
     "execution_count": 38,
     "metadata": {},
     "output_type": "execute_result"
    }
   ],
   "source": [
    "#drop all unnecessary columns\n",
    "\n",
    "df = df.drop(columns=['url','id','Cid'])\n",
    "df.head(10)"
   ]
  },
  {
   "cell_type": "markdown",
   "id": "2d6c0075",
   "metadata": {},
   "source": [
    "#### CATEGORICAL DATA "
   ]
  },
  {
   "cell_type": "markdown",
   "id": "0708ce55",
   "metadata": {},
   "source": [
    "##### to handle the categorical data, we need to perform one-hot encoding It is necessary in cases where machine learning algorithms require numerical input and cannot directly work with categorical variables. "
   ]
  },
  {
   "cell_type": "code",
   "execution_count": 39,
   "id": "407f1bf7",
   "metadata": {},
   "outputs": [
    {
     "name": "stdout",
     "output_type": "stream",
     "text": [
      "[1.    4.    3.      nan 2.    0.5   0.333 0.125 0.25  0.429 0.048 0.375\n",
      " 0.667]\n"
     ]
    }
   ],
   "source": [
    "print(df.buildingType.unique())"
   ]
  },
  {
   "cell_type": "code",
   "execution_count": 40,
   "id": "2f2f1e43",
   "metadata": {},
   "outputs": [
    {
     "data": {
      "text/plain": [
       "array([3, 4, 1, 2, 0])"
      ]
     },
     "execution_count": 40,
     "metadata": {},
     "output_type": "execute_result"
    }
   ],
   "source": [
    "df.renovationCondition.unique()"
   ]
  },
  {
   "cell_type": "code",
   "execution_count": 41,
   "id": "49f08a68",
   "metadata": {},
   "outputs": [
    {
     "data": {
      "text/plain": [
       "array([6, 2, 4, 1, 5, 3, 0])"
      ]
     },
     "execution_count": 41,
     "metadata": {},
     "output_type": "execute_result"
    }
   ],
   "source": [
    "df.buildingStructure.unique()"
   ]
  },
  {
   "cell_type": "markdown",
   "id": "7f732e4d",
   "metadata": {},
   "source": [
    "here in buildingType we has uncessary decimal data which needs to be cleaned. here, the decimal data seems to be less than 1. so we can write a code to remove all data less than 1."
   ]
  },
  {
   "cell_type": "code",
   "execution_count": 42,
   "id": "b3ba8dd5",
   "metadata": {},
   "outputs": [],
   "source": [
    "df=df[df.buildingType >= 1]"
   ]
  },
  {
   "cell_type": "code",
   "execution_count": 43,
   "id": "134496ef",
   "metadata": {},
   "outputs": [
    {
     "data": {
      "text/plain": [
       "array([1., 4., 3., 2.])"
      ]
     },
     "execution_count": 43,
     "metadata": {},
     "output_type": "execute_result"
    }
   ],
   "source": [
    "df.buildingType.unique()"
   ]
  },
  {
   "cell_type": "code",
   "execution_count": 44,
   "id": "a7b6b98b",
   "metadata": {},
   "outputs": [
    {
     "data": {
      "text/plain": [
       "(316798, 22)"
      ]
     },
     "execution_count": 44,
     "metadata": {},
     "output_type": "execute_result"
    }
   ],
   "source": [
    "df.shape"
   ]
  },
  {
   "cell_type": "markdown",
   "id": "b4438d85",
   "metadata": {},
   "source": [
    "now we need to save this copy to avoid redundancies "
   ]
  },
  {
   "cell_type": "code",
   "execution_count": 45,
   "id": "00499556",
   "metadata": {},
   "outputs": [],
   "source": [
    "df_copy=df.copy()"
   ]
  },
  {
   "cell_type": "code",
   "execution_count": 46,
   "id": "807af86f",
   "metadata": {},
   "outputs": [],
   "source": [
    "#now to perform one-hot encoding for categorical columns, we can create a list \n",
    "one_hot_enc_cols = ['renovationCondition','buildingStructure',\n",
    "                    'buildingType','buildingType','district','elevator']"
   ]
  },
  {
   "cell_type": "code",
   "execution_count": 47,
   "id": "a080d5a7",
   "metadata": {},
   "outputs": [],
   "source": [
    "df=pd.get_dummies(data=df,columns=one_hot_enc_cols,drop_first=True)"
   ]
  },
  {
   "cell_type": "code",
   "execution_count": 48,
   "id": "998fcfb9",
   "metadata": {},
   "outputs": [
    {
     "data": {
      "text/html": [
       "<div>\n",
       "<style scoped>\n",
       "    .dataframe tbody tr th:only-of-type {\n",
       "        vertical-align: middle;\n",
       "    }\n",
       "\n",
       "    .dataframe tbody tr th {\n",
       "        vertical-align: top;\n",
       "    }\n",
       "\n",
       "    .dataframe thead th {\n",
       "        text-align: right;\n",
       "    }\n",
       "</style>\n",
       "<table border=\"1\" class=\"dataframe\">\n",
       "  <thead>\n",
       "    <tr style=\"text-align: right;\">\n",
       "      <th></th>\n",
       "      <th>Lng</th>\n",
       "      <th>Lat</th>\n",
       "      <th>tradeTime</th>\n",
       "      <th>followers</th>\n",
       "      <th>totalPrice</th>\n",
       "      <th>price</th>\n",
       "      <th>square</th>\n",
       "      <th>livingRoom</th>\n",
       "      <th>drawingRoom</th>\n",
       "      <th>kitchen</th>\n",
       "      <th>bathRoom</th>\n",
       "      <th>floor</th>\n",
       "      <th>constructionTime</th>\n",
       "      <th>ladderRatio</th>\n",
       "      <th>fiveYearsProperty</th>\n",
       "      <th>subway</th>\n",
       "      <th>communityAverage</th>\n",
       "      <th>renovationCondition_2</th>\n",
       "      <th>renovationCondition_3</th>\n",
       "      <th>renovationCondition_4</th>\n",
       "      <th>buildingStructure_2</th>\n",
       "      <th>buildingStructure_3</th>\n",
       "      <th>buildingStructure_4</th>\n",
       "      <th>buildingStructure_5</th>\n",
       "      <th>buildingStructure_6</th>\n",
       "      <th>buildingType_2.0</th>\n",
       "      <th>buildingType_3.0</th>\n",
       "      <th>buildingType_4.0</th>\n",
       "      <th>buildingType_2.0</th>\n",
       "      <th>buildingType_3.0</th>\n",
       "      <th>buildingType_4.0</th>\n",
       "      <th>district_2</th>\n",
       "      <th>district_3</th>\n",
       "      <th>district_4</th>\n",
       "      <th>district_5</th>\n",
       "      <th>district_6</th>\n",
       "      <th>district_7</th>\n",
       "      <th>district_8</th>\n",
       "      <th>district_9</th>\n",
       "      <th>district_10</th>\n",
       "      <th>district_11</th>\n",
       "      <th>district_12</th>\n",
       "      <th>district_13</th>\n",
       "      <th>elevator_1.0</th>\n",
       "    </tr>\n",
       "  </thead>\n",
       "  <tbody>\n",
       "    <tr>\n",
       "      <th>0</th>\n",
       "      <td>116.475489</td>\n",
       "      <td>40.019520</td>\n",
       "      <td>2016</td>\n",
       "      <td>106</td>\n",
       "      <td>415.0</td>\n",
       "      <td>31680</td>\n",
       "      <td>131.00</td>\n",
       "      <td>2.0</td>\n",
       "      <td>1.0</td>\n",
       "      <td>1</td>\n",
       "      <td>1.0</td>\n",
       "      <td>26</td>\n",
       "      <td>2005.0</td>\n",
       "      <td>0.217</td>\n",
       "      <td>0.0</td>\n",
       "      <td>1.0</td>\n",
       "      <td>56021.0</td>\n",
       "      <td>0</td>\n",
       "      <td>1</td>\n",
       "      <td>0</td>\n",
       "      <td>0</td>\n",
       "      <td>0</td>\n",
       "      <td>0</td>\n",
       "      <td>0</td>\n",
       "      <td>1</td>\n",
       "      <td>0</td>\n",
       "      <td>0</td>\n",
       "      <td>0</td>\n",
       "      <td>0</td>\n",
       "      <td>0</td>\n",
       "      <td>0</td>\n",
       "      <td>0</td>\n",
       "      <td>0</td>\n",
       "      <td>0</td>\n",
       "      <td>0</td>\n",
       "      <td>0</td>\n",
       "      <td>1</td>\n",
       "      <td>0</td>\n",
       "      <td>0</td>\n",
       "      <td>0</td>\n",
       "      <td>0</td>\n",
       "      <td>0</td>\n",
       "      <td>0</td>\n",
       "      <td>1</td>\n",
       "    </tr>\n",
       "    <tr>\n",
       "      <th>1</th>\n",
       "      <td>116.453917</td>\n",
       "      <td>39.881534</td>\n",
       "      <td>2016</td>\n",
       "      <td>126</td>\n",
       "      <td>575.0</td>\n",
       "      <td>43436</td>\n",
       "      <td>132.38</td>\n",
       "      <td>2.0</td>\n",
       "      <td>2.0</td>\n",
       "      <td>1</td>\n",
       "      <td>2.0</td>\n",
       "      <td>22</td>\n",
       "      <td>2004.0</td>\n",
       "      <td>0.667</td>\n",
       "      <td>1.0</td>\n",
       "      <td>0.0</td>\n",
       "      <td>71539.0</td>\n",
       "      <td>0</td>\n",
       "      <td>0</td>\n",
       "      <td>1</td>\n",
       "      <td>0</td>\n",
       "      <td>0</td>\n",
       "      <td>0</td>\n",
       "      <td>0</td>\n",
       "      <td>1</td>\n",
       "      <td>0</td>\n",
       "      <td>0</td>\n",
       "      <td>0</td>\n",
       "      <td>0</td>\n",
       "      <td>0</td>\n",
       "      <td>0</td>\n",
       "      <td>0</td>\n",
       "      <td>0</td>\n",
       "      <td>0</td>\n",
       "      <td>0</td>\n",
       "      <td>0</td>\n",
       "      <td>1</td>\n",
       "      <td>0</td>\n",
       "      <td>0</td>\n",
       "      <td>0</td>\n",
       "      <td>0</td>\n",
       "      <td>0</td>\n",
       "      <td>0</td>\n",
       "      <td>1</td>\n",
       "    </tr>\n",
       "    <tr>\n",
       "      <th>2</th>\n",
       "      <td>116.561978</td>\n",
       "      <td>39.877145</td>\n",
       "      <td>2016</td>\n",
       "      <td>48</td>\n",
       "      <td>1030.0</td>\n",
       "      <td>52021</td>\n",
       "      <td>198.00</td>\n",
       "      <td>3.0</td>\n",
       "      <td>2.0</td>\n",
       "      <td>1</td>\n",
       "      <td>3.0</td>\n",
       "      <td>4</td>\n",
       "      <td>2005.0</td>\n",
       "      <td>0.500</td>\n",
       "      <td>0.0</td>\n",
       "      <td>0.0</td>\n",
       "      <td>48160.0</td>\n",
       "      <td>0</td>\n",
       "      <td>1</td>\n",
       "      <td>0</td>\n",
       "      <td>0</td>\n",
       "      <td>0</td>\n",
       "      <td>0</td>\n",
       "      <td>0</td>\n",
       "      <td>1</td>\n",
       "      <td>0</td>\n",
       "      <td>0</td>\n",
       "      <td>1</td>\n",
       "      <td>0</td>\n",
       "      <td>0</td>\n",
       "      <td>1</td>\n",
       "      <td>0</td>\n",
       "      <td>0</td>\n",
       "      <td>0</td>\n",
       "      <td>0</td>\n",
       "      <td>0</td>\n",
       "      <td>1</td>\n",
       "      <td>0</td>\n",
       "      <td>0</td>\n",
       "      <td>0</td>\n",
       "      <td>0</td>\n",
       "      <td>0</td>\n",
       "      <td>0</td>\n",
       "      <td>1</td>\n",
       "    </tr>\n",
       "    <tr>\n",
       "      <th>3</th>\n",
       "      <td>116.438010</td>\n",
       "      <td>40.076114</td>\n",
       "      <td>2016</td>\n",
       "      <td>138</td>\n",
       "      <td>297.5</td>\n",
       "      <td>22202</td>\n",
       "      <td>134.00</td>\n",
       "      <td>3.0</td>\n",
       "      <td>1.0</td>\n",
       "      <td>1</td>\n",
       "      <td>1.0</td>\n",
       "      <td>21</td>\n",
       "      <td>2008.0</td>\n",
       "      <td>0.273</td>\n",
       "      <td>0.0</td>\n",
       "      <td>0.0</td>\n",
       "      <td>51238.0</td>\n",
       "      <td>0</td>\n",
       "      <td>0</td>\n",
       "      <td>0</td>\n",
       "      <td>0</td>\n",
       "      <td>0</td>\n",
       "      <td>0</td>\n",
       "      <td>0</td>\n",
       "      <td>1</td>\n",
       "      <td>0</td>\n",
       "      <td>0</td>\n",
       "      <td>0</td>\n",
       "      <td>0</td>\n",
       "      <td>0</td>\n",
       "      <td>0</td>\n",
       "      <td>0</td>\n",
       "      <td>0</td>\n",
       "      <td>0</td>\n",
       "      <td>0</td>\n",
       "      <td>1</td>\n",
       "      <td>0</td>\n",
       "      <td>0</td>\n",
       "      <td>0</td>\n",
       "      <td>0</td>\n",
       "      <td>0</td>\n",
       "      <td>0</td>\n",
       "      <td>0</td>\n",
       "      <td>1</td>\n",
       "    </tr>\n",
       "    <tr>\n",
       "      <th>4</th>\n",
       "      <td>116.428392</td>\n",
       "      <td>39.886229</td>\n",
       "      <td>2016</td>\n",
       "      <td>286</td>\n",
       "      <td>392.0</td>\n",
       "      <td>48396</td>\n",
       "      <td>81.00</td>\n",
       "      <td>2.0</td>\n",
       "      <td>1.0</td>\n",
       "      <td>1</td>\n",
       "      <td>1.0</td>\n",
       "      <td>6</td>\n",
       "      <td>1960.0</td>\n",
       "      <td>0.333</td>\n",
       "      <td>1.0</td>\n",
       "      <td>1.0</td>\n",
       "      <td>62588.0</td>\n",
       "      <td>1</td>\n",
       "      <td>0</td>\n",
       "      <td>0</td>\n",
       "      <td>1</td>\n",
       "      <td>0</td>\n",
       "      <td>0</td>\n",
       "      <td>0</td>\n",
       "      <td>0</td>\n",
       "      <td>0</td>\n",
       "      <td>0</td>\n",
       "      <td>1</td>\n",
       "      <td>0</td>\n",
       "      <td>0</td>\n",
       "      <td>1</td>\n",
       "      <td>0</td>\n",
       "      <td>0</td>\n",
       "      <td>0</td>\n",
       "      <td>0</td>\n",
       "      <td>0</td>\n",
       "      <td>0</td>\n",
       "      <td>0</td>\n",
       "      <td>0</td>\n",
       "      <td>0</td>\n",
       "      <td>0</td>\n",
       "      <td>0</td>\n",
       "      <td>0</td>\n",
       "      <td>0</td>\n",
       "    </tr>\n",
       "  </tbody>\n",
       "</table>\n",
       "</div>"
      ],
      "text/plain": [
       "          Lng        Lat  tradeTime  ...  district_12  district_13  elevator_1.0\n",
       "0  116.475489  40.019520       2016  ...            0            0             1\n",
       "1  116.453917  39.881534       2016  ...            0            0             1\n",
       "2  116.561978  39.877145       2016  ...            0            0             1\n",
       "3  116.438010  40.076114       2016  ...            0            0             1\n",
       "4  116.428392  39.886229       2016  ...            0            0             0\n",
       "\n",
       "[5 rows x 44 columns]"
      ]
     },
     "execution_count": 48,
     "metadata": {},
     "output_type": "execute_result"
    }
   ],
   "source": [
    "df.head()"
   ]
  },
  {
   "cell_type": "markdown",
   "id": "3cabb27c",
   "metadata": {},
   "source": [
    "now the dataframe is one-hot encoded categorical columns as indicated by columns like renovationCondition_2, buildingStructure_2, district_2, and so on."
   ]
  },
  {
   "cell_type": "code",
   "execution_count": 49,
   "id": "95ae1092",
   "metadata": {},
   "outputs": [
    {
     "data": {
      "text/plain": [
       "(316798, 44)"
      ]
     },
     "execution_count": 49,
     "metadata": {},
     "output_type": "execute_result"
    }
   ],
   "source": [
    "df.shape"
   ]
  },
  {
   "cell_type": "code",
   "execution_count": 50,
   "id": "8f2aa990",
   "metadata": {},
   "outputs": [
    {
     "data": {
      "text/plain": [
       "Index(['Lng', 'Lat', 'tradeTime', 'followers', 'totalPrice', 'price', 'square',\n",
       "       'livingRoom', 'drawingRoom', 'kitchen', 'bathRoom', 'floor',\n",
       "       'constructionTime', 'ladderRatio', 'fiveYearsProperty', 'subway',\n",
       "       'communityAverage', 'renovationCondition_2', 'renovationCondition_3',\n",
       "       'renovationCondition_4', 'buildingStructure_2', 'buildingStructure_3',\n",
       "       'buildingStructure_4', 'buildingStructure_5', 'buildingStructure_6',\n",
       "       'buildingType_2.0', 'buildingType_3.0', 'buildingType_4.0',\n",
       "       'buildingType_2.0', 'buildingType_3.0', 'buildingType_4.0',\n",
       "       'district_2', 'district_3', 'district_4', 'district_5', 'district_6',\n",
       "       'district_7', 'district_8', 'district_9', 'district_10', 'district_11',\n",
       "       'district_12', 'district_13', 'elevator_1.0'],\n",
       "      dtype='object')"
      ]
     },
     "execution_count": 50,
     "metadata": {},
     "output_type": "execute_result"
    }
   ],
   "source": [
    "df.columns"
   ]
  },
  {
   "cell_type": "markdown",
   "id": "b52975d1",
   "metadata": {},
   "source": [
    "HEATMAP VISUALIZATION is done using the seaborn library"
   ]
  },
  {
   "cell_type": "code",
   "execution_count": 51,
   "id": "eaa56ef5",
   "metadata": {},
   "outputs": [],
   "source": [
    "df1=df[['Lng','Lat','tradeTime','totalPrice','followers','followers','livingRoom','drawingRoom','kitchen',\n",
    "    'bathRoom','square','communityAverage','ladderRatio']]"
   ]
  },
  {
   "cell_type": "code",
   "execution_count": 52,
   "id": "11f5973c",
   "metadata": {},
   "outputs": [
    {
     "data": {
      "image/png": "[encoded data removed]",
      "text/plain": [
       "<Figure size 2000x2000 with 2 Axes>"
      ]
     },
     "metadata": {},
     "output_type": "display_data"
    }
   ],
   "source": [
    "plt.figure(figsize=(20,20)) #specifies the size of the map\n",
    "sns.heatmap(df1.corr(),annot=True,cmap=\"RdYlGn\")\n",
    "plt.show() #shows the plot"
   ]
  },
  {
   "cell_type": "markdown",
   "id": "e73c8fe1",
   "metadata": {},
   "source": [
    "- here, figsize=(20,20) signifies the dimensions of heatmap i.e., 20x20\n",
    "- df1 columns are used in df1.corr() function to create heatmap\n",
    "- annot=True means, the numerical values must be displayed "
   ]
  },
  {
   "cell_type": "markdown",
   "id": "c17ec759",
   "metadata": {},
   "source": [
    "##### OBSERVATIONS OF HEATMAP "
   ]
  },
  {
   "cell_type": "markdown",
   "id": "6d0e205a",
   "metadata": {},
   "source": [
    "- From the heatmap, we can see that toalPrice and square footage has a strong positive correlation  (0.56)\n",
    "- square is correlated with bathroom (0.73)\n",
    "- totalPrice is negetively correlated with ladderRatio"
   ]
  },
  {
   "cell_type": "code",
   "execution_count": 53,
   "id": "4acda282",
   "metadata": {},
   "outputs": [],
   "source": [
    "df.to_csv(\"After_EDA.csv\") #save the updated data in csv format"
   ]
  },
  {
   "cell_type": "markdown",
   "id": "f864c4a2",
   "metadata": {},
   "source": [
    "### FEATURE SELECTION "
   ]
  },
  {
   "cell_type": "markdown",
   "id": "4836faed",
   "metadata": {},
   "source": [
    "Selecting the best feature for the model is important. hence we perform feature engineering process here. We can find that \"totalPrice\" from the heatmap has strong correlation"
   ]
  },
  {
   "cell_type": "code",
   "execution_count": 54,
   "id": "90065ff1",
   "metadata": {},
   "outputs": [
    {
     "data": {
      "text/plain": [
       "count    316798.000000\n",
       "mean        347.800230\n",
       "std         224.256035\n",
       "min           0.100000\n",
       "25%         205.000000\n",
       "50%         293.600000\n",
       "75%         425.000000\n",
       "max        4900.000000\n",
       "Name: totalPrice, dtype: float64"
      ]
     },
     "execution_count": 54,
     "metadata": {},
     "output_type": "execute_result"
    }
   ],
   "source": [
    "df.totalPrice.describe()"
   ]
  },
  {
   "cell_type": "markdown",
   "id": "d9da3891",
   "metadata": {},
   "source": [
    "- count is the number of non-missing values. the result says there are 316798 values.\n",
    "- mean is the average value of totalPrice which is 347.800\n",
    "- std is the standard deviation . higher std means the data is spread highly around the mean\n",
    "- min is the minimum value, in totalPrice the minimum value is 0.100\n"
   ]
  },
  {
   "cell_type": "markdown",
   "id": "6c1c9119",
   "metadata": {},
   "source": [
    "QUARTILES divides the dataset into equal parts used to understand the distribution and spread of datapoints \n",
    "- First Quartile (Q1): The first quartile, also known as the 25th percentile, is the value below which 25% of the data falls.\n",
    "- Second Quartile (Q2): The second quartile, also known as the 50th percentile, is the median of the data. It's the middle value when the data is sorted\n",
    "- Third Quartile (Q3): The third quartile, also known as the 75th percentile, is the value below which 75% of the data falls."
   ]
  },
  {
   "cell_type": "code",
   "execution_count": 55,
   "id": "8e98cc23",
   "metadata": {},
   "outputs": [
    {
     "name": "stdout",
     "output_type": "stream",
     "text": [
      "The Inter Quartile Range of totalPrice is  220.0\n"
     ]
    }
   ],
   "source": [
    "# we have Q1 and Q3 . we need to find IQR\n",
    "Q1 = 205.00\n",
    "Q3 = 425.00\n",
    "IQR = Q3-Q1\n",
    "print(\"The Inter Quartile Range of totalPrice is \",IQR)"
   ]
  },
  {
   "cell_type": "code",
   "execution_count": 56,
   "id": "ecd7bab3",
   "metadata": {},
   "outputs": [
    {
     "name": "stdout",
     "output_type": "stream",
     "text": [
      "the upper limit of totalPrice is  755.0\n",
      "the lower limit of totalPrice is  -125.0\n"
     ]
    }
   ],
   "source": [
    "upper_limit = Q3 + (1.5*IQR)\n",
    "lower_limit = Q1 - (1.5*IQR)\n",
    "print(\"the upper limit of totalPrice is \",upper_limit)\n",
    "print(\"the lower limit of totalPrice is \",lower_limit)"
   ]
  },
  {
   "cell_type": "markdown",
   "id": "d58f3266",
   "metadata": {},
   "source": [
    "Now we need to remove the outliers from the dataset"
   ]
  },
  {
   "cell_type": "code",
   "execution_count": 57,
   "id": "539e2ce7",
   "metadata": {},
   "outputs": [
    {
     "data": {
      "text/plain": [
       "<Axes: ylabel='totalPrice'>"
      ]
     },
     "execution_count": 57,
     "metadata": {},
     "output_type": "execute_result"
    },
    {
     "data": {
      "image/png": "[encoded data removed]",
      "text/plain": [
       "<Figure size 640x480 with 1 Axes>"
      ]
     },
     "metadata": {},
     "output_type": "display_data"
    }
   ],
   "source": [
    "sns.scatterplot(data=df.totalPrice)"
   ]
  },
  {
   "cell_type": "code",
   "execution_count": 58,
   "id": "e344ff68",
   "metadata": {},
   "outputs": [],
   "source": [
    "#only points that fall withing this range lower_limit <x<upper_limit ,will be kept\n",
    "#df= df[df.totalPrice <= upper_limit]\n",
    "#df = df[df.totalPrice >= lower_limit]\n",
    "\n",
    "filtered_df = df[(df.totalPrice >= lower_limit) & (df.totalPrice <= upper_limit)]"
   ]
  },
  {
   "cell_type": "code",
   "execution_count": 59,
   "id": "0726166c",
   "metadata": {},
   "outputs": [],
   "source": [
    "#sns.scatterplot(data = df.totalPrice)"
   ]
  },
  {
   "cell_type": "code",
   "execution_count": 60,
   "id": "0022441c",
   "metadata": {},
   "outputs": [],
   "source": [
    "#df.shape"
   ]
  },
  {
   "cell_type": "markdown",
   "id": "91e8dc33",
   "metadata": {},
   "source": [
    "earlier, the shape of the df was (316798, 44). Now the shape of df is (301499, 44)."
   ]
  },
  {
   "cell_type": "code",
   "execution_count": 61,
   "id": "9f496fc9",
   "metadata": {},
   "outputs": [
    {
     "data": {
      "text/plain": [
       "(316798, 44)"
      ]
     },
     "execution_count": 61,
     "metadata": {},
     "output_type": "execute_result"
    }
   ],
   "source": [
    "df.shape  #shape of original dataframe"
   ]
  },
  {
   "cell_type": "code",
   "execution_count": 62,
   "id": "6c5bfe73",
   "metadata": {},
   "outputs": [
    {
     "data": {
      "text/plain": [
       "(301499, 44)"
      ]
     },
     "execution_count": 62,
     "metadata": {},
     "output_type": "execute_result"
    }
   ],
   "source": [
    "filtered_df.shape #shape of filtered dataframe after outlier removal"
   ]
  },
  {
   "cell_type": "markdown",
   "id": "c5630422",
   "metadata": {},
   "source": [
    "#### Important features of the model"
   ]
  },
  {
   "cell_type": "code",
   "execution_count": 63,
   "id": "d9fa225f",
   "metadata": {},
   "outputs": [
    {
     "data": {
      "text/plain": [
       "Index(['Lng', 'Lat', 'tradeTime', 'followers', 'totalPrice', 'price', 'square',\n",
       "       'livingRoom', 'drawingRoom', 'kitchen', 'bathRoom', 'floor',\n",
       "       'constructionTime', 'ladderRatio', 'fiveYearsProperty', 'subway',\n",
       "       'communityAverage', 'renovationCondition_2', 'renovationCondition_3',\n",
       "       'renovationCondition_4', 'buildingStructure_2', 'buildingStructure_3',\n",
       "       'buildingStructure_4', 'buildingStructure_5', 'buildingStructure_6',\n",
       "       'buildingType_2.0', 'buildingType_3.0', 'buildingType_4.0',\n",
       "       'buildingType_2.0', 'buildingType_3.0', 'buildingType_4.0',\n",
       "       'district_2', 'district_3', 'district_4', 'district_5', 'district_6',\n",
       "       'district_7', 'district_8', 'district_9', 'district_10', 'district_11',\n",
       "       'district_12', 'district_13', 'elevator_1.0'],\n",
       "      dtype='object')"
      ]
     },
     "execution_count": 63,
     "metadata": {},
     "output_type": "execute_result"
    }
   ],
   "source": [
    "#now we need to figure out the important features of the model\n",
    "df.columns"
   ]
  },
  {
   "cell_type": "code",
   "execution_count": 69,
   "id": "9c89e133",
   "metadata": {},
   "outputs": [
    {
     "data": {
      "text/plain": [
       "Lng                          0\n",
       "Lat                          0\n",
       "tradeTime                    0\n",
       "followers                    0\n",
       "totalPrice                   0\n",
       "price                        0\n",
       "square                       0\n",
       "livingRoom                   0\n",
       "drawingRoom                  0\n",
       "kitchen                      0\n",
       "bathRoom                     0\n",
       "floor                        0\n",
       "constructionTime         18808\n",
       "ladderRatio                  0\n",
       "fiveYearsProperty            0\n",
       "subway                       0\n",
       "communityAverage           350\n",
       "renovationCondition_2        0\n",
       "renovationCondition_3        0\n",
       "renovationCondition_4        0\n",
       "buildingStructure_2          0\n",
       "buildingStructure_3          0\n",
       "buildingStructure_4          0\n",
       "buildingStructure_5          0\n",
       "buildingStructure_6          0\n",
       "buildingType_2.0             0\n",
       "buildingType_3.0             0\n",
       "buildingType_4.0             0\n",
       "buildingType_2.0             0\n",
       "buildingType_3.0             0\n",
       "buildingType_4.0             0\n",
       "district_2                   0\n",
       "district_3                   0\n",
       "district_4                   0\n",
       "district_5                   0\n",
       "district_6                   0\n",
       "district_7                   0\n",
       "district_8                   0\n",
       "district_9                   0\n",
       "district_10                  0\n",
       "district_11                  0\n",
       "district_12                  0\n",
       "district_13                  0\n",
       "elevator_1.0                 0\n",
       "dtype: int64"
      ]
     },
     "execution_count": 69,
     "metadata": {},
     "output_type": "execute_result"
    }
   ],
   "source": [
    "df.isnull().sum()"
   ]
  },
  {
   "cell_type": "code",
   "execution_count": 70,
   "id": "c911f385",
   "metadata": {},
   "outputs": [
    {
     "data": {
      "text/plain": [
       "array([2005., 2004., 2008., 1960., 1997., 2009., 1991., 2001., 1990.,\n",
       "       2011., 2000., 1998., 2010., 1996., 1993., 2006., 2002.,   nan,\n",
       "       2012., 1989., 2003., 2007., 1994., 1984., 1992., 2014., 1985.,\n",
       "       1999., 1979., 1981., 1976., 1982., 1975., 1983., 1986., 1995.,\n",
       "       1965., 2013., 1988., 1987., 2015., 1955., 1980., 1978., 1958.,\n",
       "       1970., 1956., 1977., 1964., 1963., 1967., 2016., 1974., 1973.,\n",
       "       1959., 1954., 1962., 1966., 1957., 1944., 1972., 1971., 1953.,\n",
       "       1968., 1961., 1950., 1952., 1969., 1934., 1914.])"
      ]
     },
     "execution_count": 70,
     "metadata": {},
     "output_type": "execute_result"
    }
   ],
   "source": [
    "df.constructionTime.unique()"
   ]
  },
  {
   "cell_type": "code",
   "execution_count": 71,
   "id": "9256ba3a",
   "metadata": {},
   "outputs": [],
   "source": [
    "df[\"constructionTime\"].fillna(0, inplace=True)"
   ]
  },
  {
   "cell_type": "code",
   "execution_count": 72,
   "id": "4afc6510",
   "metadata": {},
   "outputs": [
    {
     "data": {
      "text/plain": [
       "array([ 56021.,  71539.,  48160., ..., 125656., 145316., 130768.])"
      ]
     },
     "execution_count": 72,
     "metadata": {},
     "output_type": "execute_result"
    }
   ],
   "source": [
    "df.communityAverage.unique()"
   ]
  },
  {
   "cell_type": "code",
   "execution_count": 73,
   "id": "b4206138",
   "metadata": {},
   "outputs": [],
   "source": [
    "df['communityAverage'].fillna(0, inplace=True)"
   ]
  },
  {
   "cell_type": "code",
   "execution_count": 74,
   "id": "a7085b74",
   "metadata": {},
   "outputs": [
    {
     "data": {
      "text/plain": [
       "Lng                      0\n",
       "Lat                      0\n",
       "tradeTime                0\n",
       "followers                0\n",
       "totalPrice               0\n",
       "price                    0\n",
       "square                   0\n",
       "livingRoom               0\n",
       "drawingRoom              0\n",
       "kitchen                  0\n",
       "bathRoom                 0\n",
       "floor                    0\n",
       "constructionTime         0\n",
       "ladderRatio              0\n",
       "fiveYearsProperty        0\n",
       "subway                   0\n",
       "communityAverage         0\n",
       "renovationCondition_2    0\n",
       "renovationCondition_3    0\n",
       "renovationCondition_4    0\n",
       "buildingStructure_2      0\n",
       "buildingStructure_3      0\n",
       "buildingStructure_4      0\n",
       "buildingStructure_5      0\n",
       "buildingStructure_6      0\n",
       "buildingType_2.0         0\n",
       "buildingType_3.0         0\n",
       "buildingType_4.0         0\n",
       "buildingType_2.0         0\n",
       "buildingType_3.0         0\n",
       "buildingType_4.0         0\n",
       "district_2               0\n",
       "district_3               0\n",
       "district_4               0\n",
       "district_5               0\n",
       "district_6               0\n",
       "district_7               0\n",
       "district_8               0\n",
       "district_9               0\n",
       "district_10              0\n",
       "district_11              0\n",
       "district_12              0\n",
       "district_13              0\n",
       "elevator_1.0             0\n",
       "dtype: int64"
      ]
     },
     "execution_count": 74,
     "metadata": {},
     "output_type": "execute_result"
    }
   ],
   "source": [
    "df.isnull().sum()"
   ]
  },
  {
   "cell_type": "code",
   "execution_count": 75,
   "id": "8edd1784",
   "metadata": {},
   "outputs": [],
   "source": [
    "X = df.drop(['totalPrice'],axis=1)\n",
    "y = df.totalPrice"
   ]
  },
  {
   "cell_type": "code",
   "execution_count": null,
   "id": "75953b3b",
   "metadata": {},
   "outputs": [],
   "source": []
  }
 ],
 "metadata": {
  "kernelspec": {
   "display_name": "Python 3 (ipykernel)",
   "language": "python",
   "name": "python3"
  },
  "language_info": {
   "codemirror_mode": {
    "name": "ipython",
    "version": 3
   },
   "file_extension": ".py",
   "mimetype": "text/x-python",
   "name": "python",
   "nbconvert_exporter": "python",
   "pygments_lexer": "ipython3",
   "version": "3.11.5"
  }
 },
 "nbformat": 4,
 "nbformat_minor": 5
}
